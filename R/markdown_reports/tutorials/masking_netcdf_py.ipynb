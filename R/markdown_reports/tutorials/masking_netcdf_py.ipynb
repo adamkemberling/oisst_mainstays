{
  "cells": [
    {
      "cell_type": "raw",
      "metadata": {},
      "source": [
        "---\n",
        "title: \"Netcdf with python\"\n",
        "author: \"Adam Kemberling\"\n",
        "format: \n",
        "  html:\n",
        "    toc: true\n",
        "    self-contained: true\n",
        "execute: \n",
        "  echo: false\n",
        "  warning: false\n",
        "  message: false\n",
        "  comment: \"\"\n",
        "  fig.align: \"center\"\n",
        "---"
      ],
      "id": "b20fcc91"
    },
    {
      "cell_type": "markdown",
      "metadata": {},
      "source": [
        "## Quarto\n",
        "\n",
        "Quarto enables you to weave together content and executable code into a finished document. To learn more about Quarto see <https://quarto.org>.\n",
        "\n",
        "# Load Libs\n",
        "\n",
        "When you click the **Render** button a document will be generated that includes both content and the output of embedded code. You can embed code like this:\n"
      ],
      "id": "eff9bece"
    },
    {
      "cell_type": "code",
      "metadata": {},
      "source": [
        "import xarray as xr\n",
        "import datetime\n",
        "import regionmask\n",
        "import numpy as np\n",
        "import pandas as pd\n",
        "import geopandas as gpd\n",
        "import matplotlib.pyplot as plt"
      ],
      "id": "51c34dca",
      "execution_count": null,
      "outputs": []
    },
    {
      "cell_type": "markdown",
      "metadata": {},
      "source": [
        "## Load Netcdf\n"
      ],
      "id": "66a2812c"
    },
    {
      "cell_type": "code",
      "metadata": {},
      "source": [
        "# Path to netcdf, example VIIRS Chl-a\n",
        "\n",
        "# Path to resource\n",
        "# https://coastwatch.noaa.gov//erddap/griddap/noaacwNPPN20S3ASCIDINEOFDaily.html\n",
        "\n",
        "# url to download\n",
        "#  https://coastwatch.noaa.gov//erddap/griddap/noaacwNPPN20S3ASCIDINEOFDaily.nc?chlor_a%5B(2022-10-22T12:00:00Z):1:(2022-10-24T12:00:00Z)%5D%5B(0.0):1:(0.0)%5D%5B(89.95834):1:(-89.95834)%5D%5B(-179.9583):1:(179.9583)%5D\n",
        "\n",
        "# Local path\n",
        "nc_path = \"local_report_data/noaacwDaily_viirs_chla.nc\"\n",
        "\n",
        "# Open nc, if its many paths use xr.open_mfdataset([FILELIST])\n",
        "ds = xr.open_dataset(nc_path)\n",
        "ds\n"
      ],
      "id": "2633dd8d",
      "execution_count": null,
      "outputs": []
    },
    {
      "cell_type": "markdown",
      "metadata": {},
      "source": [
        "## Load Shapefile\n"
      ],
      "id": "dbf4b8b4"
    },
    {
      "cell_type": "code",
      "metadata": {},
      "source": [
        "# Directory where shapefiles are for me\n",
        "shapefiles_dir = \"/Users/akemberling/Library/CloudStorage/Box-Box/RES_Data/Shapefiles/large_marine_ecosystems/\"\n",
        "\n",
        "# Full path\n",
        "shape_path = f\"{shapefiles_dir}california_current_full.geojson\"\n",
        "\n",
        "# Load Shape\n",
        "shape_sf = gpd.read_file(shape_path)\n",
        "\n",
        "# Plot it\n",
        "shape_sf.plot()\n",
        "#plt.show()"
      ],
      "id": "b4840fb7",
      "execution_count": null,
      "outputs": []
    },
    {
      "cell_type": "markdown",
      "metadata": {},
      "source": [
        "## Mask Shape\n",
        "\n",
        "First cell is the masking function. Uses regionmask library to mask using the shapefile, then xarray is used to take mean of data within the mask.\n"
      ],
      "id": "81f7005a"
    },
    {
      "cell_type": "code",
      "metadata": {},
      "source": [
        "def calc_ts_mask(grid_obj, shp_obj, shp_name, var_name = \"chlor_a\"):\n",
        "  \"\"\"\n",
        "  Return a timeseries using data that falls within shapefile. \n",
        "  \n",
        "  Standard deviation\n",
        "  not included so that this function can be used for any period of time.\n",
        "  \n",
        "  Args:\n",
        "    grid_obj       : xr.Dataset of the desired input data to mask\n",
        "    shp_obj        : shapefile polygon to use as a mask\n",
        "    shp_name (str) : String to use as name when making mask\n",
        "    var_name (str) : Optional string identifying the variable to use \n",
        "  \"\"\"\n",
        "\n",
        "  #### 1. Make the mask\n",
        "  area_mask = regionmask.Regions(shp_obj.geometry,\n",
        "                                 name = shp_name)\n",
        "\n",
        "  #### 2. Mask the array with gom_mask to get nan test\n",
        "  mask = area_mask.mask(grid_obj, lon_name = \"longitude\", lat_name = \"latitude\")\n",
        "\n",
        "  \n",
        "  #### 3. Extract data that falls within the mask\n",
        "  masked_ds = grid_obj.where(~np.isnan(mask))\n",
        "\n",
        "  \n",
        "  #### 4. Calculate timeseries mean\n",
        "\n",
        "  # Get the timeseries mean of the desired variable\n",
        "  # (Not area-weighted)\n",
        "  masked_ts = getattr(masked_ds, var_name).mean(dim = (\"latitude\", \"longitude\"))\n",
        "    \n",
        "\n",
        "  #### 5. Change time index rownames to a column \n",
        "\n",
        "  # Convert to Timeseries Dataframe\n",
        "  masked_ts_df = masked_ts.to_dataframe()\n",
        "\n",
        "  # Reset the index, rename variables\n",
        "  masked_ts_df = masked_ts_df.reset_index()[[\"time\", var_name]]\n",
        "  \n",
        "  # Return the table as output\n",
        "  return masked_ts_df\n"
      ],
      "id": "b754ff37",
      "execution_count": null,
      "outputs": []
    },
    {
      "cell_type": "markdown",
      "metadata": {},
      "source": [
        "## Run Masking Function to Get Area Mean\n"
      ],
      "id": "967bf3b9"
    },
    {
      "cell_type": "code",
      "metadata": {},
      "source": [
        "# Calculate a timeseries\n",
        "masked_ts = calc_ts_mask(\n",
        "  grid_obj = ds, \n",
        "  shp_obj = shape_sf, \n",
        "  shp_name = \"California Current\", \n",
        "  var_name = \"chlor_a\"\n",
        ")\n",
        "\n",
        "# Look at it\n",
        "masked_ts.head()"
      ],
      "id": "579037e1",
      "execution_count": null,
      "outputs": []
    }
  ],
  "metadata": {
    "kernelspec": {
      "name": "py38",
      "language": "python",
      "display_name": "py38"
    }
  },
  "nbformat": 4,
  "nbformat_minor": 5
}