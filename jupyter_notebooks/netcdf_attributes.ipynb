{
 "cells": [
  {
   "cell_type": "markdown",
   "metadata": {},
   "source": [
    "# Setting up netcdf compliant xarray attributes\n",
    "\n",
    "[Source link](https://github.com/pydata/xarray/issues/1906)"
   ]
  },
  {
   "cell_type": "code",
   "execution_count": 1,
   "metadata": {},
   "outputs": [],
   "source": [
    "import xarray as xr\n",
    "import matplotlib.pyplot as plt\n",
    "import numpy as np\n",
    "import netCDF4"
   ]
  },
  {
   "cell_type": "code",
   "execution_count": 2,
   "metadata": {},
   "outputs": [
    {
     "name": "stdout",
     "output_type": "stream",
     "text": [
      "xarray.Dataset {\n",
      "dimensions:\n",
      "\tnv = 2 ;\n",
      "\ttime = 1 ;\n",
      "\tx = 3 ;\n",
      "\n",
      "variables:\n",
      "\tint64 time(time) ;\n",
      "\t\ttime:bounds = time_bnds ;\n",
      "\tint64 arr(time, x) ;\n",
      "\tint64 time_bnds(time, nv) ;\n",
      "\n",
      "// global attributes:\n",
      "}"
     ]
    }
   ],
   "source": [
    "arr = xr.DataArray([[1, 2, 3]], dims=['time', 'x'])\n",
    "arr['time'] = np.array([1])\n",
    "time_bnds = xr.DataArray([[0, 1]], dims=('time', 'nv'))\n",
    "arr['time'].attrs['bounds'] = 'time_bnds'\n",
    "\n",
    "dataset = xr.Dataset({'arr': arr,\n",
    "                      'time_bnds': time_bnds})\n",
    "\n",
    "dataset.info()"
   ]
  },
  {
   "cell_type": "markdown",
   "metadata": {},
   "source": [
    "Think of `arr` in the above code chunk as the daily climatology array. When I go to make it a dataset I should pass it..."
   ]
  },
  {
   "cell_type": "code",
   "execution_count": null,
   "metadata": {},
   "outputs": [],
   "source": []
  }
 ],
 "metadata": {
  "kernelspec": {
   "display_name": "Python 3",
   "language": "python",
   "name": "python3"
  },
  "language_info": {
   "codemirror_mode": {
    "name": "ipython",
    "version": 3
   },
   "file_extension": ".py",
   "mimetype": "text/x-python",
   "name": "python",
   "nbconvert_exporter": "python",
   "pygments_lexer": "ipython3",
   "version": "3.6.7"
  }
 },
 "nbformat": 4,
 "nbformat_minor": 4
}
