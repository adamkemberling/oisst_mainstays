{
 "cells": [
  {
   "cell_type": "markdown",
   "metadata": {},
   "source": [
    "# Detrending in xarray\n",
    "\n",
    "This is a prototype notebook for how to de-trend SST anomalies against the annual SST trends at a pixel x pixel level.\n",
    "\n",
    "Ideas:\n",
    " * Make an \"expected\" anomaly xr.Dataset that can be quickly checked against\n",
    " * Update linear trends annually\n",
    " * Make functions that can match anomalies against these expectations"
   ]
  },
  {
   "cell_type": "markdown",
   "metadata": {},
   "source": []
  }
 ],
 "metadata": {
  "language_info": {
   "name": "python"
  },
  "orig_nbformat": 4
 },
 "nbformat": 4,
 "nbformat_minor": 2
}
