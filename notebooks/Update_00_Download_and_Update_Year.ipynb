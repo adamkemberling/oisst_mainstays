{
 "cells": [
  {
   "cell_type": "markdown",
   "metadata": {},
   "source": [
    "# OISSTv2 Live Updating Workflow\n",
    "\n",
    "This notebook is for documenting the steps to build a single annual OISSTv2 file using update caches. The processing of global anomalies, and the regional timelines that we keep on hand for analyses. \n",
    "\n",
    "The steps were developed initially in `Update_01_Download_OISST` then the steps were abstracted into functions and placed into the `oisstools.py` module. This notebook will follow the same steps but with much less code, hopefully with less room for error.\n",
    "\n",
    "This notebook exists to document the processing steps, but has since been replaced by script workflows using prefect in `oisst_prefect.py`. Use this notebook for debugging or extending the workflow, then transfer to `oisst_prefect.py`"
   ]
  },
  {
   "cell_type": "code",
   "execution_count": 1,
   "metadata": {},
   "outputs": [
    {
     "name": "stdout",
     "output_type": "stream",
     "text": [
      "Working via directory at: /Users/akemberling/Box/\n",
      "Updated using months:     10 & 11\n"
     ]
    }
   ],
   "source": [
    "# Libraries\n",
    "from bs4 import BeautifulSoup\n",
    "import requests\n",
    "import os\n",
    "import xarray as xr\n",
    "import datetime\n",
    "import oisstools as ot\n",
    "\n",
    "\n",
    "#### 1. Set workspace\n",
    "workspace = \"local\"\n",
    "box_root = ot.set_workspace(\"local\")\n",
    "_cache_root = ot.set_cache_root(box_root)\n",
    "\n",
    "# Manual Months\n",
    "# this_month = \"09\"\n",
    "# ast_month = \"08\"\n",
    "\n",
    "\n",
    "#### 2. What Months are we checking?\n",
    "this_month = ot.get_update_month(return_this_month = True)\n",
    "last_month = ot.get_update_month(return_this_month = False)\n",
    "update_yr  = ot.check_update_yr(for_this_month = True)\n",
    "\n",
    "\n",
    "#### 3. Print Last Update\n",
    "print(f\"Working via directory at: {box_root}\")\n",
    "print(f\"Updated using months:     {last_month} & {this_month}\")"
   ]
  },
  {
   "cell_type": "markdown",
   "metadata": {},
   "source": [
    "## 1. Update Last Month"
   ]
  },
  {
   "cell_type": "code",
   "execution_count": 2,
   "metadata": {},
   "outputs": [
    {
     "name": "stdout",
     "output_type": "stream",
     "text": [
      "Caching Daily NETCDF File: oisst-avhrr-v02r01.20211001.nc\n",
      "Caching Daily NETCDF File: oisst-avhrr-v02r01.20211002.nc\n",
      "Caching Daily NETCDF File: oisst-avhrr-v02r01.20211003.nc\n",
      "Caching Daily NETCDF File: oisst-avhrr-v02r01.20211004.nc\n",
      "Caching Daily NETCDF File: oisst-avhrr-v02r01.20211005.nc\n",
      "Caching Daily NETCDF File: oisst-avhrr-v02r01.20211006.nc\n",
      "Caching Daily NETCDF File: oisst-avhrr-v02r01.20211007.nc\n",
      "Caching Daily NETCDF File: oisst-avhrr-v02r01.20211008.nc\n",
      "Caching Daily NETCDF File: oisst-avhrr-v02r01.20211009.nc\n",
      "Caching Daily NETCDF File: oisst-avhrr-v02r01.20211010.nc\n",
      "Caching Daily NETCDF File: oisst-avhrr-v02r01.20211011.nc\n",
      "Caching Daily NETCDF File: oisst-avhrr-v02r01.20211012.nc\n",
      "Caching Daily NETCDF File: oisst-avhrr-v02r01.20211013.nc\n",
      "Caching Daily NETCDF File: oisst-avhrr-v02r01.20211014.nc\n",
      "Caching Daily NETCDF File: oisst-avhrr-v02r01.20211015.nc\n",
      "Caching Daily NETCDF File: oisst-avhrr-v02r01.20211016.nc\n",
      "Caching Daily NETCDF File: oisst-avhrr-v02r01.20211017.nc\n",
      "Caching Daily NETCDF File: oisst-avhrr-v02r01.20211018.nc\n",
      "Caching Daily NETCDF File: oisst-avhrr-v02r01.20211019.nc\n",
      "Caching Daily NETCDF File: oisst-avhrr-v02r01.20211020.nc\n",
      "Caching Daily NETCDF File: oisst-avhrr-v02r01.20211021_preliminary.nc\n",
      "Caching Daily NETCDF File: oisst-avhrr-v02r01.20211022_preliminary.nc\n",
      "Caching Daily NETCDF File: oisst-avhrr-v02r01.20211023_preliminary.nc\n",
      "Caching Daily NETCDF File: oisst-avhrr-v02r01.20211024_preliminary.nc\n",
      "Caching Daily NETCDF File: oisst-avhrr-v02r01.20211025_preliminary.nc\n",
      "Caching Daily NETCDF File: oisst-avhrr-v02r01.20211026_preliminary.nc\n",
      "Caching Daily NETCDF File: oisst-avhrr-v02r01.20211027_preliminary.nc\n",
      "Caching Daily NETCDF File: oisst-avhrr-v02r01.20211028_preliminary.nc\n",
      "Caching Daily NETCDF File: oisst-avhrr-v02r01.20211029_preliminary.nc\n",
      "Caching Daily NETCDF File: oisst-avhrr-v02r01.20211030_preliminary.nc\n",
      "Caching Daily NETCDF File: oisst-avhrr-v02r01.20211031_preliminary.nc\n",
      "Current month preliminary data found for: 20211021\n",
      "Current month preliminary data found for: 20211022\n",
      "Current month preliminary data found for: 20211023\n",
      "Current month preliminary data found for: 20211024\n",
      "Current month preliminary data found for: 20211025\n",
      "Current month preliminary data found for: 20211026\n",
      "Current month preliminary data found for: 20211027\n",
      "Current month preliminary data found for: 20211028\n",
      "Current month preliminary data found for: 20211029\n",
      "Current month preliminary data found for: 20211030\n",
      "Current month preliminary data found for: 20211031\n",
      "Prelim and Finalized Data Found for:\n",
      "[]\n",
      "OISSTv2 Cache for 2021/10 Updated Succesfully.\n"
     ]
    }
   ],
   "source": [
    "# Use cache_oisst function to update cache for last month\n",
    "ot.cache_oisst(cache_month = last_month, \n",
    "               update_yr = update_yr, \n",
    "               workspace = workspace, \n",
    "               verbose = True)"
   ]
  },
  {
   "cell_type": "markdown",
   "metadata": {},
   "source": [
    "## 2. Update This Month"
   ]
  },
  {
   "cell_type": "code",
   "execution_count": 3,
   "metadata": {},
   "outputs": [
    {
     "name": "stdout",
     "output_type": "stream",
     "text": [
      "Caching Daily NETCDF File: oisst-avhrr-v02r01.20211101_preliminary.nc\n",
      "Caching Daily NETCDF File: oisst-avhrr-v02r01.20211102_preliminary.nc\n",
      "Caching Daily NETCDF File: oisst-avhrr-v02r01.20211103_preliminary.nc\n",
      "Caching Daily NETCDF File: oisst-avhrr-v02r01.20211104_preliminary.nc\n",
      "Caching Daily NETCDF File: oisst-avhrr-v02r01.20211105_preliminary.nc\n",
      "Caching Daily NETCDF File: oisst-avhrr-v02r01.20211106_preliminary.nc\n",
      "Caching Daily NETCDF File: oisst-avhrr-v02r01.20211107_preliminary.nc\n",
      "Current month preliminary data found for: 20211101\n",
      "Current month preliminary data found for: 20211102\n",
      "Current month preliminary data found for: 20211103\n",
      "Current month preliminary data found for: 20211104\n",
      "Current month preliminary data found for: 20211105\n",
      "Current month preliminary data found for: 20211106\n",
      "Current month preliminary data found for: 20211107\n",
      "Prelim and Finalized Data Found for:\n",
      "[]\n",
      "OISSTv2 Cache for 2021/11 Updated Succesfully.\n"
     ]
    }
   ],
   "source": [
    "# Use cache_oisst function to update cache for last month\n",
    "ot.cache_oisst(cache_month = this_month, \n",
    "               update_yr = update_yr, \n",
    "               workspace = workspace, \n",
    "               verbose = True)"
   ]
  },
  {
   "cell_type": "markdown",
   "metadata": {},
   "source": [
    "## 3. Build Annual File"
   ]
  },
  {
   "cell_type": "code",
   "execution_count": 4,
   "metadata": {},
   "outputs": [],
   "source": [
    "# Assemble the annual file\n",
    "oisst_update = ot.build_annual_from_cache(last_month = last_month, \n",
    "                                          this_month = this_month, \n",
    "                                          workspace = workspace, \n",
    "                                          verbose = True)"
   ]
  },
  {
   "cell_type": "markdown",
   "metadata": {},
   "source": [
    "## 4. Check Annual file\n",
    "\n",
    "Want to see consistency in the dimensions, and data from the beginning of the year through to the update month."
   ]
  },
  {
   "cell_type": "code",
   "execution_count": 5,
   "metadata": {},
   "outputs": [
    {
     "data": {
      "text/plain": [
       "[<matplotlib.lines.Line2D at 0x7fbcb20fcb00>]"
      ]
     },
     "execution_count": 5,
     "metadata": {},
     "output_type": "execute_result"
    },
    {
     "data": {
      "image/png": "[encoded data removed]",
      "text/plain": [
       "<Figure size 432x288 with 1 Axes>"
      ]
     },
     "metadata": {
      "needs_background": "light"
     },
     "output_type": "display_data"
    }
   ],
   "source": [
    "#oisst_update\n",
    "oisst_update.sst.mean((\"lon\", \"lat\")).plot()"
   ]
  },
  {
   "cell_type": "markdown",
   "metadata": {},
   "source": [
    "## 5. Export Update"
   ]
  },
  {
   "cell_type": "code",
   "execution_count": 6,
   "metadata": {},
   "outputs": [
    {
     "name": "stdout",
     "output_type": "stream",
     "text": [
      "File Saved to /Users/akemberling/Box/RES_Data/OISST/oisst_mainstays/annual_observations/sst.day.mean.2021.v2.nc\n"
     ]
    }
   ],
   "source": [
    "# export update using same file pattern as everything else\n",
    "ot.export_annual_update(cache_root = _cache_root,\n",
    "                        update_yr = update_yr,\n",
    "                        oisst_update = oisst_update)"
   ]
  },
  {
   "cell_type": "markdown",
   "metadata": {},
   "source": [
    "## 6. Update Annual Anomalies"
   ]
  },
  {
   "cell_type": "code",
   "execution_count": 7,
   "metadata": {},
   "outputs": [
    {
     "name": "stdout",
     "output_type": "stream",
     "text": [
      "Updating Year(s): 2021 - 2021\n",
      "Calculating Anomalies for 1982-2011 reference period.\n",
      "Saving anomaly year: 2021\n"
     ]
    }
   ],
   "source": [
    "# Specify year range to update\n",
    "yr_min = 2021\n",
    "yr_max = 2021\n",
    "print(f\"Updating Year(s): {yr_min} - {yr_max}\")\n",
    "\n",
    "# Set desired climatology period\n",
    "reference_period = \"1982-2011\"\n",
    "print(f\"Calculating Anomalies for {reference_period} reference period.\")\n",
    "\n",
    "# Run Global Anomalies\n",
    "ot.update_global_anomalies(yr_min = yr_min, \n",
    "                           yr_max = yr_max, \n",
    "                           box_root = box_root, \n",
    "                           var_name = \"sst\", \n",
    "                           reference_period = \"1982-2011\")"
   ]
  },
  {
   "cell_type": "markdown",
   "metadata": {},
   "source": [
    "## 7. Update Global Timeseries"
   ]
  },
  {
   "cell_type": "code",
   "execution_count": 8,
   "metadata": {},
   "outputs": [
    {
     "name": "stdout",
     "output_type": "stream",
     "text": [
      "Updating Global Timeseries\n"
     ]
    }
   ],
   "source": [
    "ot.update_global_timeseries(yr_min, yr_max, box_root, var_name = \"sst\", reference_period = \"1982-2011\")"
   ]
  },
  {
   "cell_type": "markdown",
   "metadata": {},
   "source": [
    "## 8. Regional timeseries "
   ]
  },
  {
   "cell_type": "code",
   "execution_count": 9,
   "metadata": {},
   "outputs": [
    {
     "name": "stdout",
     "output_type": "stream",
     "text": [
      "Updating Regional Timeseries for: 2021 - 2021\n",
      "Updating Timeseries for: gmri_sst_focal_areas\n",
      "Updating Timeseries for:\n",
      " - apershing_gulf_of_maine\n",
      " - cpr_gulf_of_maine\n",
      " - aak_northwest_atlantic\n",
      " - long_island_sound\n",
      "Updating Timeseries for: nelme_regions\n",
      "Updating Timeseries for:\n",
      " - GoM\n",
      " - NELME\n",
      " - SNEandMAB\n",
      "Updating Timeseries for: nmfs_trawl_regions\n",
      "Updating Timeseries for:\n",
      " - georges_bank\n",
      " - gulf_of_maine\n",
      " - southern_new_england\n",
      " - mid_atlantic_bight\n",
      " - inuse_strata\n",
      " - regions_collection\n",
      "Updating Timeseries for: gom_physio_regions\n",
      "Updating Timeseries for:\n",
      " - bay_of_fundy\n",
      " - bear_seamount\n",
      " - browns_bank\n",
      " - central_gulf_of_maine\n",
      " - continental_slope\n",
      " - eastern_coastal_shelf\n",
      " - georges_bank\n",
      " - georges_basin\n",
      " - jordan_basin\n",
      " - kelvin_seamount\n",
      " - manning_seamount\n",
      " - northern_coastal_shelf\n",
      " - scotian_coastal_shelf\n",
      " - scotian_shelf\n",
      " - southern_coastal_shelf\n",
      " - wikinson_basin\n",
      "Updating Timeseries for: lme\n",
      "Updating Timeseries for:\n",
      " - agulhas_current\n",
      " - aleutian_islands\n",
      " - antarctica\n",
      " - arabian_sea\n",
      " - baltic_sea\n",
      " - barents_sea\n",
      " - bay_of_bengal\n",
      " - beaufort_sea\n",
      " - benguela_current\n",
      " - black_sea\n",
      " - california_current\n",
      " - canadian_eastern_arctic_west_greenland\n",
      " - canadian_high_arctic_north_greenland\n",
      " - canary_current\n",
      " - caribbean_sea\n",
      " - celtic_biscay_shelf\n",
      " - central_arctic\n",
      " - east_bering_sea\n",
      " - east_brazil_shelf\n",
      " - east_central_australian_shelf\n",
      " - east_china_sea\n",
      " - east_siberian_sea\n",
      " - faroe_plateau\n",
      " - greenland_sea\n",
      " - guinea_current\n",
      " - gulf_of_alaska\n",
      " - gulf_of_california\n",
      " - gulf_of_mexico\n",
      " - gulf_of_thailand\n",
      " - hudson_bay_complex\n",
      " - humboldt_current\n",
      " - iberian_coastal\n",
      " - iceland_shelf_and_sea\n",
      " - indonesian_sea\n",
      " - insular_pacific_hawaiian\n",
      " - kara_sea\n",
      " - kuroshio_current\n",
      " - labrador_newfoundland\n",
      " - laptev_sea\n",
      " - mediterranean_sea\n",
      " - new_zealand_shelf\n",
      " - north_australian_shelf\n",
      " - north_brazil_shelf\n",
      " - north_sea\n",
      " - northeast_australian_shelf\n",
      " - northeast_us_continental_shelf\n",
      " - northern_bering_chukchi_seas\n",
      " - northwest_australian_shelf\n",
      " - norwegian_sea\n",
      " - oyashio_current\n",
      " - pacific_central_american_coastal\n",
      " - patagonian_shelf\n",
      " - red_sea\n",
      " - scotian_shelf\n",
      " - sea_of_japan\n",
      " - sea_of_okhotsk\n",
      " - somali_coastal_current\n",
      " - south_brazil_shelf\n",
      " - south_china_sea\n",
      " - south_west_australian_shelf\n",
      " - southeast_australian_shelf\n",
      " - southeast_us_continental_shelf\n",
      " - sulu_celebes_sea\n",
      " - west_bering_sea\n",
      " - west_central_australian_shelf\n",
      " - yellow_sea\n"
     ]
    }
   ],
   "source": [
    "# start and end years for the update\n",
    "start_yr = 2021\n",
    "end_yr   = 2021\n",
    "print(f\"Updating Regional Timeseries for: {start_yr} - {end_yr}\")\n",
    "\n",
    "# variable name to mask and make timeline from\n",
    "var_name = \"sst\"\n",
    "\n",
    "# GMRI Focal Areas\n",
    "ot.update_regional_timeseries_collection(start_yr = start_yr, end_yr = end_yr, region_collection = \"gmri_sst_focal_areas\", box_root = box_root)\n",
    "\n",
    "# Northeast Marine Regions\n",
    "ot.update_regional_timeseries_collection(start_yr = start_yr, end_yr = end_yr, region_collection = \"nelme_regions\", box_root = box_root)\n",
    "\n",
    "# NMFS Trawl Regions\n",
    "ot.update_regional_timeseries_collection(start_yr = start_yr, end_yr = end_yr, region_collection = \"nmfs_trawl_regions\", box_root = box_root)\n",
    "\n",
    "# Gulf of Maine Physio Regions\n",
    "ot.update_regional_timeseries_collection(start_yr = start_yr, end_yr = end_yr, region_collection = \"gom_physio_regions\", box_root = box_root)\n",
    "\n",
    "# Large Marine Ecosystems\n",
    "ot.update_regional_timeseries_collection(start_yr = start_yr, end_yr = end_yr, region_collection = \"lme\", box_root = box_root)"
   ]
  },
  {
   "cell_type": "code",
   "execution_count": null,
   "metadata": {},
   "outputs": [],
   "source": []
  },
  {
   "cell_type": "code",
   "execution_count": null,
   "metadata": {},
   "outputs": [],
   "source": []
  }
 ],
 "metadata": {
  "kernelspec": {
   "display_name": "Python 3",
   "language": "python",
   "name": "python3"
  },
  "language_info": {
   "codemirror_mode": {
    "name": "ipython",
    "version": 3
   },
   "file_extension": ".py",
   "mimetype": "text/x-python",
   "name": "python",
   "nbconvert_exporter": "python",
   "pygments_lexer": "ipython3",
   "version": "3.6.7"
  }
 },
 "nbformat": 4,
 "nbformat_minor": 4
}
