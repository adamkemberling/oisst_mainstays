{
 "cells": [
  {
   "cell_type": "markdown",
   "metadata": {},
   "source": [
    "# OISSTv2 Live Update Testing\n",
    "\n",
    "This notebook is for documenting the steps to build a single annual OISSTv2 file using update caches. \n",
    "\n",
    "The steps were developed initially in `Update_01_Download_OISST` then the steps were abstracted into functions and placed into the `oisstools.py` module. This notebook will follow the same steps but with much less code, hopefully with less room for error.\n",
    "\n",
    "This notebook exists to document the processing steps, but has since been replaced by script workflows using prefect in `oisst_prefect.py`. Use this notebook for debugging or extending the workflow, then transfer to `oisst_prefect.py`"
   ]
  },
  {
   "cell_type": "code",
   "execution_count": 1,
   "metadata": {},
   "outputs": [
    {
     "name": "stdout",
     "output_type": "stream",
     "text": [
      "Working via directory at: /Users/akemberling/Box/\n",
      "Updated using months:     07 & 08\n"
     ]
    }
   ],
   "source": [
    "# Libraries\n",
    "from bs4 import BeautifulSoup\n",
    "import requests\n",
    "import os\n",
    "import xarray as xr\n",
    "import datetime\n",
    "import oisstools as ot\n",
    "\n",
    "\n",
    "#### 1. Set workspace\n",
    "workspace = \"local\"\n",
    "box_root = ot.set_workspace(\"local\")\n",
    "_cache_root = ot.set_cache_root(box_root)\n",
    "\n",
    "\n",
    "#### 2. What Months are we checking?\n",
    "this_month = ot.get_update_month(return_this_month = True)\n",
    "last_month = ot.get_update_month(return_this_month = False)\n",
    "update_yr  = ot.check_update_yr(for_this_month = True)\n",
    "\n",
    "\n",
    "#### 3. Print Last Update\n",
    "print(f\"Working via directory at: {box_root}\")\n",
    "print(f\"Updated using months:     {last_month} & {this_month}\")"
   ]
  },
  {
   "cell_type": "markdown",
   "metadata": {},
   "source": [
    "## 1. Update Last Month"
   ]
  },
  {
   "cell_type": "code",
   "execution_count": 2,
   "metadata": {},
   "outputs": [
    {
     "name": "stdout",
     "output_type": "stream",
     "text": [
      "Caching Daily NETCDF File: oisst-avhrr-v02r01.20210701.nc\n",
      "Caching Daily NETCDF File: oisst-avhrr-v02r01.20210702.nc\n",
      "Caching Daily NETCDF File: oisst-avhrr-v02r01.20210703.nc\n",
      "Caching Daily NETCDF File: oisst-avhrr-v02r01.20210704.nc\n",
      "Caching Daily NETCDF File: oisst-avhrr-v02r01.20210705.nc\n",
      "Caching Daily NETCDF File: oisst-avhrr-v02r01.20210706.nc\n",
      "Caching Daily NETCDF File: oisst-avhrr-v02r01.20210707.nc\n",
      "Caching Daily NETCDF File: oisst-avhrr-v02r01.20210708.nc\n",
      "Caching Daily NETCDF File: oisst-avhrr-v02r01.20210709.nc\n",
      "Caching Daily NETCDF File: oisst-avhrr-v02r01.20210710.nc\n",
      "Caching Daily NETCDF File: oisst-avhrr-v02r01.20210711.nc\n",
      "Caching Daily NETCDF File: oisst-avhrr-v02r01.20210712.nc\n",
      "Caching Daily NETCDF File: oisst-avhrr-v02r01.20210713.nc\n",
      "Caching Daily NETCDF File: oisst-avhrr-v02r01.20210714.nc\n",
      "Caching Daily NETCDF File: oisst-avhrr-v02r01.20210715.nc\n",
      "Caching Daily NETCDF File: oisst-avhrr-v02r01.20210716.nc\n",
      "Caching Daily NETCDF File: oisst-avhrr-v02r01.20210717.nc\n",
      "Caching Daily NETCDF File: oisst-avhrr-v02r01.20210718.nc\n",
      "Caching Daily NETCDF File: oisst-avhrr-v02r01.20210719.nc\n",
      "Caching Daily NETCDF File: oisst-avhrr-v02r01.20210720.nc\n",
      "Caching Daily NETCDF File: oisst-avhrr-v02r01.20210721.nc\n",
      "Caching Daily NETCDF File: oisst-avhrr-v02r01.20210722.nc\n",
      "Caching Daily NETCDF File: oisst-avhrr-v02r01.20210723.nc\n",
      "Caching Daily NETCDF File: oisst-avhrr-v02r01.20210724.nc\n",
      "Caching Daily NETCDF File: oisst-avhrr-v02r01.20210725.nc\n",
      "Caching Daily NETCDF File: oisst-avhrr-v02r01.20210726.nc\n",
      "Caching Daily NETCDF File: oisst-avhrr-v02r01.20210727.nc\n",
      "Caching Daily NETCDF File: oisst-avhrr-v02r01.20210728_preliminary.nc\n",
      "Caching Daily NETCDF File: oisst-avhrr-v02r01.20210729_preliminary.nc\n",
      "Caching Daily NETCDF File: oisst-avhrr-v02r01.20210730_preliminary.nc\n",
      "Caching Daily NETCDF File: oisst-avhrr-v02r01.20210731_preliminary.nc\n",
      "Current month preliminary data found for: 20210714\n",
      "Current month preliminary data found for: 20210715\n",
      "Current month preliminary data found for: 20210716\n",
      "Current month preliminary data found for: 20210717\n",
      "Current month preliminary data found for: 20210718\n",
      "Current month preliminary data found for: 20210719\n",
      "Current month preliminary data found for: 20210720\n",
      "Current month preliminary data found for: 20210721\n",
      "Current month preliminary data found for: 20210722\n",
      "Current month preliminary data found for: 20210723\n",
      "Current month preliminary data found for: 20210724\n",
      "Current month preliminary data found for: 20210725\n",
      "Current month preliminary data found for: 20210726\n",
      "Current month preliminary data found for: 20210727\n",
      "Current month preliminary data found for: 20210728\n",
      "Current month preliminary data found for: 20210729\n",
      "Current month preliminary data found for: 20210730\n",
      "Current month preliminary data found for: 20210731\n",
      "Prelim and Finalized Data Found for:\n",
      "['20210714', '20210715', '20210716', '20210717', '20210718', '20210719', '20210720', '20210721', '20210722', '20210723', '20210724', '20210725', '20210726', '20210727']\n",
      "File Removed for Finalized Data: /Users/akemberling/Box/RES_Data/OISST/oisst_mainstays/update_caches/07/oisst-avhrr-v02r01.20210714_preliminary.nc\n",
      "File Removed for Finalized Data: /Users/akemberling/Box/RES_Data/OISST/oisst_mainstays/update_caches/07/oisst-avhrr-v02r01.20210715_preliminary.nc\n",
      "File Removed for Finalized Data: /Users/akemberling/Box/RES_Data/OISST/oisst_mainstays/update_caches/07/oisst-avhrr-v02r01.20210716_preliminary.nc\n",
      "File Removed for Finalized Data: /Users/akemberling/Box/RES_Data/OISST/oisst_mainstays/update_caches/07/oisst-avhrr-v02r01.20210717_preliminary.nc\n",
      "File Removed for Finalized Data: /Users/akemberling/Box/RES_Data/OISST/oisst_mainstays/update_caches/07/oisst-avhrr-v02r01.20210718_preliminary.nc\n",
      "File Removed for Finalized Data: /Users/akemberling/Box/RES_Data/OISST/oisst_mainstays/update_caches/07/oisst-avhrr-v02r01.20210719_preliminary.nc\n",
      "File Removed for Finalized Data: /Users/akemberling/Box/RES_Data/OISST/oisst_mainstays/update_caches/07/oisst-avhrr-v02r01.20210720_preliminary.nc\n",
      "File Removed for Finalized Data: /Users/akemberling/Box/RES_Data/OISST/oisst_mainstays/update_caches/07/oisst-avhrr-v02r01.20210721_preliminary.nc\n",
      "File Removed for Finalized Data: /Users/akemberling/Box/RES_Data/OISST/oisst_mainstays/update_caches/07/oisst-avhrr-v02r01.20210722_preliminary.nc\n",
      "File Removed for Finalized Data: /Users/akemberling/Box/RES_Data/OISST/oisst_mainstays/update_caches/07/oisst-avhrr-v02r01.20210723_preliminary.nc\n",
      "File Removed for Finalized Data: /Users/akemberling/Box/RES_Data/OISST/oisst_mainstays/update_caches/07/oisst-avhrr-v02r01.20210724_preliminary.nc\n",
      "File Removed for Finalized Data: /Users/akemberling/Box/RES_Data/OISST/oisst_mainstays/update_caches/07/oisst-avhrr-v02r01.20210725_preliminary.nc\n",
      "File Removed for Finalized Data: /Users/akemberling/Box/RES_Data/OISST/oisst_mainstays/update_caches/07/oisst-avhrr-v02r01.20210726_preliminary.nc\n",
      "File Removed for Finalized Data: /Users/akemberling/Box/RES_Data/OISST/oisst_mainstays/update_caches/07/oisst-avhrr-v02r01.20210727_preliminary.nc\n",
      "OISSTv2 Cache for 2021/07 Updated Succesfully.\n"
     ]
    }
   ],
   "source": [
    "# Use cache_oisst function to update cache for last month\n",
    "ot.cache_oisst(cache_month = last_month, \n",
    "               update_yr = update_yr, \n",
    "               workspace = workspace, \n",
    "               verbose = True)"
   ]
  },
  {
   "cell_type": "markdown",
   "metadata": {},
   "source": [
    "## 2. Update This Month"
   ]
  },
  {
   "cell_type": "code",
   "execution_count": 3,
   "metadata": {},
   "outputs": [
    {
     "name": "stdout",
     "output_type": "stream",
     "text": [
      "Caching Daily NETCDF File: oisst-avhrr-v02r01.20210801_preliminary.nc\n",
      "Caching Daily NETCDF File: oisst-avhrr-v02r01.20210802_preliminary.nc\n",
      "Caching Daily NETCDF File: oisst-avhrr-v02r01.20210803_preliminary.nc\n",
      "Caching Daily NETCDF File: oisst-avhrr-v02r01.20210804_preliminary.nc\n",
      "Caching Daily NETCDF File: oisst-avhrr-v02r01.20210805_preliminary.nc\n",
      "Caching Daily NETCDF File: oisst-avhrr-v02r01.20210806_preliminary.nc\n",
      "Caching Daily NETCDF File: oisst-avhrr-v02r01.20210807_preliminary.nc\n",
      "Caching Daily NETCDF File: oisst-avhrr-v02r01.20210808_preliminary.nc\n",
      "Caching Daily NETCDF File: oisst-avhrr-v02r01.20210809_preliminary.nc\n",
      "Caching Daily NETCDF File: oisst-avhrr-v02r01.20210810_preliminary.nc\n",
      "Caching Daily NETCDF File: oisst-avhrr-v02r01.20210811_preliminary.nc\n",
      "Current month preliminary data found for: 20210801\n",
      "Current month preliminary data found for: 20210802\n",
      "Current month preliminary data found for: 20210803\n",
      "Current month preliminary data found for: 20210804\n",
      "Current month preliminary data found for: 20210805\n",
      "Current month preliminary data found for: 20210806\n",
      "Current month preliminary data found for: 20210807\n",
      "Current month preliminary data found for: 20210808\n",
      "Current month preliminary data found for: 20210809\n",
      "Current month preliminary data found for: 20210810\n",
      "Current month preliminary data found for: 20210811\n",
      "Prelim and Finalized Data Found for:\n",
      "[]\n",
      "OISSTv2 Cache for 2021/08 Updated Succesfully.\n"
     ]
    }
   ],
   "source": [
    "# Use cache_oisst function to update cache for last month\n",
    "ot.cache_oisst(cache_month = this_month, \n",
    "               update_yr = update_yr, \n",
    "               workspace = workspace, \n",
    "               verbose = True)"
   ]
  },
  {
   "cell_type": "markdown",
   "metadata": {},
   "source": [
    "## 3. Build Annual File"
   ]
  },
  {
   "cell_type": "code",
   "execution_count": 4,
   "metadata": {},
   "outputs": [],
   "source": [
    "# Assemble the annual file\n",
    "oisst_update = ot.build_annual_from_cache(last_month = last_month, \n",
    "                                          this_month = this_month, \n",
    "                                          workspace = workspace, \n",
    "                                          verbose = True)"
   ]
  },
  {
   "cell_type": "markdown",
   "metadata": {},
   "source": [
    "## 4. Check Annual file\n",
    "\n",
    "Want to see consistency in the dimensions, and data from the beginning of the year through to the update month."
   ]
  },
  {
   "cell_type": "code",
   "execution_count": 6,
   "metadata": {},
   "outputs": [
    {
     "data": {
      "text/plain": [
       "[<matplotlib.lines.Line2D at 0x7fd67e4136d8>]"
      ]
     },
     "execution_count": 6,
     "metadata": {},
     "output_type": "execute_result"
    },
    {
     "data": {
      "image/png": "[encoded data removed]",
      "text/plain": [
       "<Figure size 432x288 with 1 Axes>"
      ]
     },
     "metadata": {
      "needs_background": "light"
     },
     "output_type": "display_data"
    }
   ],
   "source": [
    "#oisst_update\n",
    "#oisst_update.isel(time = -1).sst.plot()\n",
    "oisst_update.sst.mean((\"lon\", \"lat\")).plot()"
   ]
  },
  {
   "cell_type": "markdown",
   "metadata": {},
   "source": [
    "## 5. Export Update"
   ]
  },
  {
   "cell_type": "code",
   "execution_count": 7,
   "metadata": {},
   "outputs": [
    {
     "name": "stdout",
     "output_type": "stream",
     "text": [
      "File Saved to /Users/akemberling/Box/RES_Data/OISST/oisst_mainstays/annual_observations/sst.day.mean.2021.v2.nc\n"
     ]
    }
   ],
   "source": [
    "# export update using same file pattern as everything else\n",
    "ot.export_annual_update(cache_root = _cache_root,\n",
    "                       update_yr = update_yr,\n",
    "                       oisst_update = oisst_update)"
   ]
  },
  {
   "cell_type": "code",
   "execution_count": null,
   "metadata": {},
   "outputs": [],
   "source": []
  }
 ],
 "metadata": {
  "kernelspec": {
   "display_name": "Python 3",
   "language": "python",
   "name": "python3"
  },
  "language_info": {
   "codemirror_mode": {
    "name": "ipython",
    "version": 3
   },
   "file_extension": ".py",
   "mimetype": "text/x-python",
   "name": "python",
   "nbconvert_exporter": "python",
   "pygments_lexer": "ipython3",
   "version": "3.6.7"
  }
 },
 "nbformat": 4,
 "nbformat_minor": 4
}
