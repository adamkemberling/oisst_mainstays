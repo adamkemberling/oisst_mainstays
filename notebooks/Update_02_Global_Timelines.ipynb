{
 "cells": [
  {
   "cell_type": "code",
   "execution_count": 1,
   "metadata": {},
   "outputs": [
    {
     "name": "stdout",
     "output_type": "stream",
     "text": [
      "Working via directory at: /Users/akemberling/Library/CloudStorage/Box-Box/\n"
     ]
    }
   ],
   "source": [
    "# Load Packages\n",
    "import xarray as xr\n",
    "import numpy as np\n",
    "import pandas as pd\n",
    "import matplotlib.pyplot as plt\n",
    "import warnings\n",
    "import os\n",
    "import geopandas as gpd\n",
    "import regionmask\n",
    "import oisstools as ot\n",
    "import cartopy.crs as ccrs\n",
    "\n",
    "\n",
    "# Set the workspace - local/ docker\n",
    "workspace = \"local\"\n",
    "box_root = ot.set_workspace(workspace)\n",
    "\n",
    "# document what choices were made on last run:\n",
    "print(f\"Working via directory at: {box_root}\")"
   ]
  },
  {
   "cell_type": "code",
   "execution_count": 4,
   "metadata": {},
   "outputs": [
    {
     "name": "stdout",
     "output_type": "stream",
     "text": [
      "Calculating Anomalies for 1991-2020 reference period.\n"
     ]
    }
   ],
   "source": [
    "# Specify year range to update\n",
    "yr_min = 1995\n",
    "yr_max = 2024\n",
    "\n",
    "# Set desired climatology period\n",
    "reference_period = \"1991-2020\"\n",
    "print(f\"Calculating Anomalies for {reference_period} reference period.\")"
   ]
  },
  {
   "cell_type": "markdown",
   "metadata": {},
   "source": [
    "# Run Global Timeseries"
   ]
  },
  {
   "cell_type": "code",
   "execution_count": 5,
   "metadata": {},
   "outputs": [
    {
     "name": "stdout",
     "output_type": "stream",
     "text": [
      "Updating Global Timeseries\n"
     ]
    }
   ],
   "source": [
    "ot.update_global_timeseries(\n",
    "    yr_min, \n",
    "    yr_max, \n",
    "    box_root, \n",
    "    var_name = \"sst\", \n",
    "    reference_period = reference_period, \n",
    "    append_existing=True)"
   ]
  },
  {
   "cell_type": "markdown",
   "metadata": {},
   "source": [
    "---\n",
    "\n",
    "# Manual Coding Section\n",
    "\n",
    "the following code was used to develop the above function and can be useful for debugging:"
   ]
  },
  {
   "cell_type": "code",
   "execution_count": 3,
   "metadata": {},
   "outputs": [],
   "source": [
    "# # Load all years of oisst and anomalies\n",
    "# oisst = ot.load_box_oisst(box_root, \n",
    "#                           yr_min, \n",
    "#                           yr_max, \n",
    "#                           anomalies = False, \n",
    "#                           do_parallel = True)\n",
    "# oisst = ot.add_mod(oisst, 'time')\n",
    "\n",
    "# # Anomalies\n",
    "# daily_anoms = ot.load_box_oisst(box_root, \n",
    "#                           yr_min, \n",
    "#                           yr_max, \n",
    "#                           anomalies = True, \n",
    "#                           do_parallel = True)\n",
    "\n",
    "# # Climatology\n",
    "# oisst_clim = ot.load_oisst_climatology(box_root = box_root, \n",
    "#                                        reference_period = reference_period)"
   ]
  },
  {
   "cell_type": "code",
   "execution_count": 7,
   "metadata": {},
   "outputs": [],
   "source": [
    "# # Mean Temp\n",
    "# mean_sst = oisst.mean([\"lat\", \"lon\"])\n",
    "# weighted_sst = ot.area_weighted_means(oisst, var_name = \"sst\", sd = False)\n",
    "\n",
    "# # Convert to dataframes\n",
    "# sst_df     = mean_sst.to_dataframe().reset_index()\n",
    "# sst_wt_df  = weighted_sst.to_dataframe().reset_index()"
   ]
  },
  {
   "cell_type": "code",
   "execution_count": 9,
   "metadata": {},
   "outputs": [
    {
     "data": {
      "text/html": [
       "<div>\n",
       "<style scoped>\n",
       "    .dataframe tbody tr th:only-of-type {\n",
       "        vertical-align: middle;\n",
       "    }\n",
       "\n",
       "    .dataframe tbody tr th {\n",
       "        vertical-align: top;\n",
       "    }\n",
       "\n",
       "    .dataframe thead th {\n",
       "        text-align: right;\n",
       "    }\n",
       "</style>\n",
       "<table border=\"1\" class=\"dataframe\">\n",
       "  <thead>\n",
       "    <tr style=\"text-align: right;\">\n",
       "      <th></th>\n",
       "      <th>time</th>\n",
       "      <th>sst</th>\n",
       "      <th>modified_ordinal_day</th>\n",
       "      <th>MOD</th>\n",
       "      <th>area_wtd_sst</th>\n",
       "    </tr>\n",
       "  </thead>\n",
       "  <tbody>\n",
       "    <tr>\n",
       "      <th>0</th>\n",
       "      <td>1981-09-01</td>\n",
       "      <td>13.792295</td>\n",
       "      <td>245.0</td>\n",
       "      <td>245</td>\n",
       "      <td>18.088272</td>\n",
       "    </tr>\n",
       "    <tr>\n",
       "      <th>1</th>\n",
       "      <td>1981-09-02</td>\n",
       "      <td>13.778812</td>\n",
       "      <td>246.0</td>\n",
       "      <td>246</td>\n",
       "      <td>18.078165</td>\n",
       "    </tr>\n",
       "    <tr>\n",
       "      <th>2</th>\n",
       "      <td>1981-09-03</td>\n",
       "      <td>13.771958</td>\n",
       "      <td>247.0</td>\n",
       "      <td>247</td>\n",
       "      <td>18.072233</td>\n",
       "    </tr>\n",
       "    <tr>\n",
       "      <th>3</th>\n",
       "      <td>1981-09-04</td>\n",
       "      <td>13.761700</td>\n",
       "      <td>248.0</td>\n",
       "      <td>248</td>\n",
       "      <td>18.066187</td>\n",
       "    </tr>\n",
       "    <tr>\n",
       "      <th>4</th>\n",
       "      <td>1981-09-05</td>\n",
       "      <td>13.745054</td>\n",
       "      <td>249.0</td>\n",
       "      <td>249</td>\n",
       "      <td>18.054379</td>\n",
       "    </tr>\n",
       "  </tbody>\n",
       "</table>\n",
       "</div>"
      ],
      "text/plain": [
       "        time        sst  modified_ordinal_day  MOD  area_wtd_sst\n",
       "0 1981-09-01  13.792295                 245.0  245     18.088272\n",
       "1 1981-09-02  13.778812                 246.0  246     18.078165\n",
       "2 1981-09-03  13.771958                 247.0  247     18.072233\n",
       "3 1981-09-04  13.761700                 248.0  248     18.066187\n",
       "4 1981-09-05  13.745054                 249.0  249     18.054379"
      ]
     },
     "execution_count": 9,
     "metadata": {},
     "output_type": "execute_result"
    }
   ],
   "source": [
    "# # Merge standard and area weighted values\n",
    "# sst_join  = sst_df.merge(sst_wt_df, how = \"left\", on = [\"time\", \"MOD\"])\n",
    "# sst_join = sst_join.drop(columns=['modified_ordinal_day'])\n",
    "# sst_join = sst_join[['time', 'MOD', 'sst', 'area_wtd_sst']]"
   ]
  },
  {
   "cell_type": "code",
   "execution_count": 20,
   "metadata": {},
   "outputs": [],
   "source": [
    "# # Mean Climatology\n",
    "# mean_clim = oisst_clim.mean([\"lat\", \"lon\"])\n",
    "# weighted_clim = ot.area_weighted_means(oisst_clim, var_name = \"sst\", sd = False)\n",
    "\n",
    "# clim_df    = mean_clim.to_dataframe().reset_index()\n",
    "# clim_wt_df = weighted_clim.to_dataframe().reset_index()\n",
    "\n",
    "# # climatology\n",
    "# clim_join = clim_df.merge(clim_wt_df, on = \"modified_ordinal_day\")\n",
    "# clim_join = clim_join.rename(columns = {\"sst\" : \"sst_clim\", f\"area_wtd_sst\" : \"area_wtd_clim\", \"modified_ordinal_day\" : \"MOD\"})"
   ]
  },
  {
   "cell_type": "code",
   "execution_count": 21,
   "metadata": {},
   "outputs": [
    {
     "data": {
      "text/html": [
       "<div>\n",
       "<style scoped>\n",
       "    .dataframe tbody tr th:only-of-type {\n",
       "        vertical-align: middle;\n",
       "    }\n",
       "\n",
       "    .dataframe tbody tr th {\n",
       "        vertical-align: top;\n",
       "    }\n",
       "\n",
       "    .dataframe thead th {\n",
       "        text-align: right;\n",
       "    }\n",
       "</style>\n",
       "<table border=\"1\" class=\"dataframe\">\n",
       "  <thead>\n",
       "    <tr style=\"text-align: right;\">\n",
       "      <th></th>\n",
       "      <th>MOD</th>\n",
       "      <th>sst_clim</th>\n",
       "      <th>area_wtd_clim</th>\n",
       "    </tr>\n",
       "  </thead>\n",
       "  <tbody>\n",
       "    <tr>\n",
       "      <th>0</th>\n",
       "      <td>1</td>\n",
       "      <td>13.460504</td>\n",
       "      <td>17.978485</td>\n",
       "    </tr>\n",
       "    <tr>\n",
       "      <th>1</th>\n",
       "      <td>2</td>\n",
       "      <td>13.469034</td>\n",
       "      <td>17.986233</td>\n",
       "    </tr>\n",
       "    <tr>\n",
       "      <th>2</th>\n",
       "      <td>3</td>\n",
       "      <td>13.477575</td>\n",
       "      <td>17.994282</td>\n",
       "    </tr>\n",
       "    <tr>\n",
       "      <th>3</th>\n",
       "      <td>4</td>\n",
       "      <td>13.486596</td>\n",
       "      <td>18.003035</td>\n",
       "    </tr>\n",
       "    <tr>\n",
       "      <th>4</th>\n",
       "      <td>5</td>\n",
       "      <td>13.493990</td>\n",
       "      <td>18.010281</td>\n",
       "    </tr>\n",
       "  </tbody>\n",
       "</table>\n",
       "</div>"
      ],
      "text/plain": [
       "   MOD   sst_clim  area_wtd_clim\n",
       "0    1  13.460504      17.978485\n",
       "1    2  13.469034      17.986233\n",
       "2    3  13.477575      17.994282\n",
       "3    4  13.486596      18.003035\n",
       "4    5  13.493990      18.010281"
      ]
     },
     "execution_count": 21,
     "metadata": {},
     "output_type": "execute_result"
    }
   ],
   "source": [
    "# # Join sst and climatology\n",
    "# sst_and_clim = sst_join.merge(clim_join, how = \"left\", on = \"MOD\")"
   ]
  },
  {
   "cell_type": "code",
   "execution_count": 23,
   "metadata": {},
   "outputs": [],
   "source": [
    "# # Mean Anomalies\n",
    "# mean_anomalies = daily_anoms.mean(['lat', 'lon']) \n",
    "# weighted_means = ot.area_weighted_means(daily_anoms, var_name = \"sst\", sd = False)\n",
    "\n",
    "# anom_df    = mean_anomalies.to_dataframe().reset_index().drop(columns = [\"modified_ordinal_day\"])\n",
    "# anom_wt_df = weighted_means.to_dataframe().reset_index().drop(columns = [\"modified_ordinal_day\"])\n",
    "\n",
    "# # Join anomalies\n",
    "# anom_join = anom_df.merge(anom_wt_df, how = \"left\", on = [\"time\", \"MOD\"])\n",
    "# anom_join = anom_join.rename(columns = {\"sst\" : \"sst_anom\", f\"area_wtd_sst\" : \"area_wtd_anom\"})"
   ]
  },
  {
   "cell_type": "markdown",
   "metadata": {},
   "source": [
    "# Join SST + Clim + Anomalies"
   ]
  },
  {
   "cell_type": "code",
   "execution_count": 5,
   "metadata": {},
   "outputs": [],
   "source": [
    "# update_ts = sst_and_clim.merge(anom_join, how = \"left\", on = [\"time\", \"MOD\"])"
   ]
  },
  {
   "cell_type": "markdown",
   "metadata": {},
   "source": [
    "## Plots"
   ]
  },
  {
   "cell_type": "code",
   "execution_count": null,
   "metadata": {},
   "outputs": [],
   "source": [
    "# mean_sst.sst.plot(label = \"Global SST - Un-Weighted\")\n",
    "# weighted_sst.area_wtd_sst.plot(label = \"Global SST - Area-Weighted\")\n",
    "# plt.legend()\n",
    "\n",
    "# mean_clim.sst.plot(label = \"Global SST - Un-Weighted\")\n",
    "# weighted_clim.area_wtd_sst.plot(label = \"Global SST - Area-Weighted\")\n",
    "# plt.legend()\n",
    "\n",
    "# # Plot Comparison\n",
    "# mean_anomalies.sst.plot(label = \"Global - Un-Weighted\")\n",
    "# weighted_means.area_wtd_sst.plot(label = \"Global - Area-Weighted\")\n",
    "# plt.legend()"
   ]
  },
  {
   "cell_type": "markdown",
   "metadata": {},
   "source": [
    "## Append to Full Timeseries"
   ]
  },
  {
   "cell_type": "code",
   "execution_count": 54,
   "metadata": {},
   "outputs": [
    {
     "data": {
      "text/html": [
       "<div>\n",
       "<style scoped>\n",
       "    .dataframe tbody tr th:only-of-type {\n",
       "        vertical-align: middle;\n",
       "    }\n",
       "\n",
       "    .dataframe tbody tr th {\n",
       "        vertical-align: top;\n",
       "    }\n",
       "\n",
       "    .dataframe thead th {\n",
       "        text-align: right;\n",
       "    }\n",
       "</style>\n",
       "<table border=\"1\" class=\"dataframe\">\n",
       "  <thead>\n",
       "    <tr style=\"text-align: right;\">\n",
       "      <th></th>\n",
       "      <th>time</th>\n",
       "      <th>MOD</th>\n",
       "      <th>sst</th>\n",
       "      <th>area_wtd_sst</th>\n",
       "      <th>sst_clim</th>\n",
       "      <th>area_wtd_clim</th>\n",
       "      <th>sst_anom</th>\n",
       "      <th>area_wtd_anom</th>\n",
       "    </tr>\n",
       "  </thead>\n",
       "  <tbody>\n",
       "    <tr>\n",
       "      <th>0</th>\n",
       "      <td>1981-09-01</td>\n",
       "      <td>245</td>\n",
       "      <td>13.792295</td>\n",
       "      <td>18.088272</td>\n",
       "      <td>13.861716</td>\n",
       "      <td>18.187570</td>\n",
       "      <td>-0.069423</td>\n",
       "      <td>-0.099309</td>\n",
       "    </tr>\n",
       "    <tr>\n",
       "      <th>40</th>\n",
       "      <td>1981-09-02</td>\n",
       "      <td>246</td>\n",
       "      <td>13.778812</td>\n",
       "      <td>18.078165</td>\n",
       "      <td>13.860900</td>\n",
       "      <td>18.186693</td>\n",
       "      <td>-0.082091</td>\n",
       "      <td>-0.108535</td>\n",
       "    </tr>\n",
       "    <tr>\n",
       "      <th>80</th>\n",
       "      <td>1981-09-03</td>\n",
       "      <td>247</td>\n",
       "      <td>13.771958</td>\n",
       "      <td>18.072233</td>\n",
       "      <td>13.857845</td>\n",
       "      <td>18.184526</td>\n",
       "      <td>-0.085882</td>\n",
       "      <td>-0.112306</td>\n",
       "    </tr>\n",
       "    <tr>\n",
       "      <th>120</th>\n",
       "      <td>1981-09-04</td>\n",
       "      <td>248</td>\n",
       "      <td>13.761700</td>\n",
       "      <td>18.066187</td>\n",
       "      <td>13.853866</td>\n",
       "      <td>18.181871</td>\n",
       "      <td>-0.092171</td>\n",
       "      <td>-0.115656</td>\n",
       "    </tr>\n",
       "    <tr>\n",
       "      <th>160</th>\n",
       "      <td>1981-09-05</td>\n",
       "      <td>249</td>\n",
       "      <td>13.745054</td>\n",
       "      <td>18.054379</td>\n",
       "      <td>13.847774</td>\n",
       "      <td>18.177715</td>\n",
       "      <td>-0.102719</td>\n",
       "      <td>-0.123352</td>\n",
       "    </tr>\n",
       "  </tbody>\n",
       "</table>\n",
       "</div>"
      ],
      "text/plain": [
       "          time  MOD        sst  area_wtd_sst   sst_clim  area_wtd_clim  \\\n",
       "0   1981-09-01  245  13.792295     18.088272  13.861716      18.187570   \n",
       "40  1981-09-02  246  13.778812     18.078165  13.860900      18.186693   \n",
       "80  1981-09-03  247  13.771958     18.072233  13.857845      18.184526   \n",
       "120 1981-09-04  248  13.761700     18.066187  13.853866      18.181871   \n",
       "160 1981-09-05  249  13.745054     18.054379  13.847774      18.177715   \n",
       "\n",
       "     sst_anom  area_wtd_anom  \n",
       "0   -0.069423      -0.099309  \n",
       "40  -0.082091      -0.108535  \n",
       "80  -0.085882      -0.112306  \n",
       "120 -0.092171      -0.115656  \n",
       "160 -0.102719      -0.123352  "
      ]
     },
     "execution_count": 54,
     "metadata": {},
     "output_type": "execute_result"
    }
   ],
   "source": [
    "# # Open what we have already\n",
    "# old_sst = pd.read_csv(f\"{box_root}Res_Data/OISST/oisst_mainstays/global_timeseries/global_anoms_1982to2011.csv\")\n",
    "   \n",
    "# # # Select/remove columns\n",
    "# # old_sst = old_ts[[\"time\", f\"{var_name}\", f\"area_wtd_{var_name}\"]]\n",
    "\n",
    "# # Remove dates from old timeseries overlap from the update timeseries\n",
    "# not_overlapped = ~old_sst.time.isin(update_ts.time)\n",
    "# old_sst  = old_sst[not_overlapped]\n",
    "\n",
    "# # Concatenate onto the original\n",
    "# appended_ts = pd.concat([ old_sst, update_ts ])\n",
    "\n",
    "# # Format time as datetime\n",
    "# appended_ts[\"time\"] = appended_ts[\"time\"].astype(\"datetime64\")\n",
    "\n",
    "# # Sort\n",
    "# appended_ts = appended_ts.sort_values(by = \"time\")\n",
    "\n",
    "# # Drop duplicates\n",
    "# appended_ts = appended_ts.drop_duplicates(subset=['time'])\n",
    "\n",
    "# # Check\n",
    "# appended_ts.head()"
   ]
  },
  {
   "cell_type": "markdown",
   "metadata": {},
   "source": [
    "# Saving\n",
    "\n",
    "\n"
   ]
  },
  {
   "cell_type": "code",
   "execution_count": 41,
   "metadata": {},
   "outputs": [],
   "source": [
    "# # SAVING\n",
    "# appended_ts.to_csv(f\"{box_root}Res_Data/OISST/oisst_mainstays/global_timeseries/global_anoms_1982to2011.csv\", index = False)"
   ]
  },
  {
   "cell_type": "code",
   "execution_count": null,
   "metadata": {},
   "outputs": [],
   "source": []
  }
 ],
 "metadata": {
  "kernelspec": {
   "display_name": "Python 3",
   "language": "python",
   "name": "python3"
  },
  "language_info": {
   "codemirror_mode": {
    "name": "ipython",
    "version": 3
   },
   "file_extension": ".py",
   "mimetype": "text/x-python",
   "name": "python",
   "nbconvert_exporter": "python",
   "pygments_lexer": "ipython3",
   "version": "3.8.12"
  }
 },
 "nbformat": 4,
 "nbformat_minor": 4
}
