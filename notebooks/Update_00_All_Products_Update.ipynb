{
 "cells": [
  {
   "cell_type": "markdown",
   "metadata": {},
   "source": [
    "# OISSTv2 Live Updating Workflow\n",
    "\n",
    "This notebook is for documenting the steps to build a single annual OISSTv2 file using update caches. The processing of global anomalies, and the regional timelines that we keep on hand for analyses. \n",
    "\n",
    "The steps were developed initially in `Update_01_Download_OISST` then the steps were abstracted into functions and placed into the `oisstools.py` module. This notebook will follow the same steps but with much less code, hopefully with less room for error.\n",
    "\n",
    "This notebook exists to document the processing steps, but has since been replaced by script workflows using prefect in `oisst_prefect.py`. Use this notebook for debugging or extending the workflow, then transfer to `oisst_prefect.py`"
   ]
  },
  {
   "cell_type": "code",
   "execution_count": 2,
   "metadata": {},
   "outputs": [
    {
     "name": "stdout",
     "output_type": "stream",
     "text": [
      "Working via directory at: /Users/akemberling/Box/\n",
      "Updated using months:     12 & 11, Year: 2021\n"
     ]
    }
   ],
   "source": [
    "# Libraries\n",
    "from bs4 import BeautifulSoup\n",
    "import requests\n",
    "import os\n",
    "import xarray as xr\n",
    "import datetime\n",
    "import oisstools as ot\n",
    "\n",
    "\n",
    "#### 1. Set workspace\n",
    "workspace = \"local\"\n",
    "box_root = ot.set_workspace(\"local\")\n",
    "_cache_root = ot.set_cache_root(box_root)\n",
    "\n",
    "# Manual Month/Year Selection\n",
    "this_month = \"11\"\n",
    "last_month = \"12\"\n",
    "update_yr = \"2021\"\n",
    "\n",
    "\n",
    "#### 2. What Months are we checking?\n",
    "# this_month = ot.get_update_month(return_this_month = True)\n",
    "# last_month = ot.get_update_month(return_this_month = False)\n",
    "# update_yr  = ot.check_update_yr(for_this_month = True)\n",
    "\n",
    "\n",
    "#### 3. Print Last Update\n",
    "print(f\"Working via directory at: {box_root}\")\n",
    "print(f\"Updated using months:     {last_month} & {this_month}, Year: {update_yr}\")"
   ]
  },
  {
   "cell_type": "markdown",
   "metadata": {},
   "source": [
    "## 1. Download Daily Files for Last Month"
   ]
  },
  {
   "cell_type": "code",
   "execution_count": 3,
   "metadata": {},
   "outputs": [
    {
     "name": "stdout",
     "output_type": "stream",
     "text": [
      "Caching Daily NETCDF File: oisst-avhrr-v02r01.20211201.nc\n",
      "Caching Daily NETCDF File: oisst-avhrr-v02r01.20211202.nc\n",
      "Caching Daily NETCDF File: oisst-avhrr-v02r01.20211203.nc\n",
      "Caching Daily NETCDF File: oisst-avhrr-v02r01.20211204.nc\n",
      "Caching Daily NETCDF File: oisst-avhrr-v02r01.20211205.nc\n",
      "Caching Daily NETCDF File: oisst-avhrr-v02r01.20211206.nc\n",
      "Caching Daily NETCDF File: oisst-avhrr-v02r01.20211207.nc\n",
      "Caching Daily NETCDF File: oisst-avhrr-v02r01.20211208.nc\n",
      "Caching Daily NETCDF File: oisst-avhrr-v02r01.20211209.nc\n",
      "Caching Daily NETCDF File: oisst-avhrr-v02r01.20211210.nc\n",
      "Caching Daily NETCDF File: oisst-avhrr-v02r01.20211211.nc\n",
      "Caching Daily NETCDF File: oisst-avhrr-v02r01.20211212.nc\n",
      "Caching Daily NETCDF File: oisst-avhrr-v02r01.20211213.nc\n",
      "Caching Daily NETCDF File: oisst-avhrr-v02r01.20211214.nc\n",
      "Caching Daily NETCDF File: oisst-avhrr-v02r01.20211215_preliminary.nc\n",
      "Caching Daily NETCDF File: oisst-avhrr-v02r01.20211216_preliminary.nc\n",
      "Caching Daily NETCDF File: oisst-avhrr-v02r01.20211217_preliminary.nc\n",
      "Caching Daily NETCDF File: oisst-avhrr-v02r01.20211218_preliminary.nc\n",
      "Caching Daily NETCDF File: oisst-avhrr-v02r01.20211219_preliminary.nc\n",
      "Caching Daily NETCDF File: oisst-avhrr-v02r01.20211220_preliminary.nc\n",
      "Caching Daily NETCDF File: oisst-avhrr-v02r01.20211221_preliminary.nc\n",
      "Caching Daily NETCDF File: oisst-avhrr-v02r01.20211222_preliminary.nc\n",
      "Caching Daily NETCDF File: oisst-avhrr-v02r01.20211223_preliminary.nc\n",
      "Caching Daily NETCDF File: oisst-avhrr-v02r01.20211224_preliminary.nc\n",
      "Caching Daily NETCDF File: oisst-avhrr-v02r01.20211225_preliminary.nc\n",
      "Caching Daily NETCDF File: oisst-avhrr-v02r01.20211226_preliminary.nc\n",
      "Caching Daily NETCDF File: oisst-avhrr-v02r01.20211227_preliminary.nc\n",
      "Caching Daily NETCDF File: oisst-avhrr-v02r01.20211228_preliminary.nc\n",
      "Current month preliminary data found for: 20211202\n",
      "Current month preliminary data found for: 20211203\n",
      "Current month preliminary data found for: 20211204\n",
      "Current month preliminary data found for: 20211205\n",
      "Current month preliminary data found for: 20211206\n",
      "Current month preliminary data found for: 20211207\n",
      "Current month preliminary data found for: 20211208\n",
      "Current month preliminary data found for: 20211209\n",
      "Current month preliminary data found for: 20211210\n",
      "Current month preliminary data found for: 20211211\n",
      "Current month preliminary data found for: 20211212\n",
      "Current month preliminary data found for: 20211213\n",
      "Current month preliminary data found for: 20211214\n",
      "Current month preliminary data found for: 20211215\n",
      "Current month preliminary data found for: 20211216\n",
      "Current month preliminary data found for: 20211217\n",
      "Current month preliminary data found for: 20211218\n",
      "Current month preliminary data found for: 20211219\n",
      "Current month preliminary data found for: 20211220\n",
      "Current month preliminary data found for: 20211221\n",
      "Current month preliminary data found for: 20211222\n",
      "Current month preliminary data found for: 20211223\n",
      "Current month preliminary data found for: 20211224\n",
      "Current month preliminary data found for: 20211225\n",
      "Current month preliminary data found for: 20211226\n",
      "Current month preliminary data found for: 20211227\n",
      "Current month preliminary data found for: 20211228\n",
      "Prelim and Finalized Data Found for:\n",
      "['20211202', '20211203', '20211204', '20211205', '20211206', '20211207', '20211208', '20211209', '20211210', '20211211', '20211212', '20211213', '20211214']\n",
      "File Removed for Finalized Data: /Users/akemberling/Box/RES_Data/OISST/oisst_mainstays/update_caches/12/oisst-avhrr-v02r01.20211202_preliminary.nc\n",
      "File Removed for Finalized Data: /Users/akemberling/Box/RES_Data/OISST/oisst_mainstays/update_caches/12/oisst-avhrr-v02r01.20211203_preliminary.nc\n",
      "File Removed for Finalized Data: /Users/akemberling/Box/RES_Data/OISST/oisst_mainstays/update_caches/12/oisst-avhrr-v02r01.20211204_preliminary.nc\n",
      "File Removed for Finalized Data: /Users/akemberling/Box/RES_Data/OISST/oisst_mainstays/update_caches/12/oisst-avhrr-v02r01.20211205_preliminary.nc\n",
      "File Removed for Finalized Data: /Users/akemberling/Box/RES_Data/OISST/oisst_mainstays/update_caches/12/oisst-avhrr-v02r01.20211206_preliminary.nc\n",
      "File Removed for Finalized Data: /Users/akemberling/Box/RES_Data/OISST/oisst_mainstays/update_caches/12/oisst-avhrr-v02r01.20211207_preliminary.nc\n",
      "File Removed for Finalized Data: /Users/akemberling/Box/RES_Data/OISST/oisst_mainstays/update_caches/12/oisst-avhrr-v02r01.20211208_preliminary.nc\n",
      "File Removed for Finalized Data: /Users/akemberling/Box/RES_Data/OISST/oisst_mainstays/update_caches/12/oisst-avhrr-v02r01.20211209_preliminary.nc\n",
      "File Removed for Finalized Data: /Users/akemberling/Box/RES_Data/OISST/oisst_mainstays/update_caches/12/oisst-avhrr-v02r01.20211210_preliminary.nc\n",
      "File Removed for Finalized Data: /Users/akemberling/Box/RES_Data/OISST/oisst_mainstays/update_caches/12/oisst-avhrr-v02r01.20211211_preliminary.nc\n",
      "File Removed for Finalized Data: /Users/akemberling/Box/RES_Data/OISST/oisst_mainstays/update_caches/12/oisst-avhrr-v02r01.20211212_preliminary.nc\n",
      "File Removed for Finalized Data: /Users/akemberling/Box/RES_Data/OISST/oisst_mainstays/update_caches/12/oisst-avhrr-v02r01.20211213_preliminary.nc\n",
      "File Removed for Finalized Data: /Users/akemberling/Box/RES_Data/OISST/oisst_mainstays/update_caches/12/oisst-avhrr-v02r01.20211214_preliminary.nc\n",
      "OISSTv2 Cache for 2021/12 Updated Succesfully.\n"
     ]
    }
   ],
   "source": [
    "# Use cache_oisst function to update cache for last month\n",
    "ot.cache_oisst(cache_month = last_month, \n",
    "               update_yr = update_yr, \n",
    "               workspace = workspace, \n",
    "               verbose = True)"
   ]
  },
  {
   "cell_type": "markdown",
   "metadata": {},
   "source": [
    "## 2. Download Daily Files for This Month"
   ]
  },
  {
   "cell_type": "code",
   "execution_count": 4,
   "metadata": {},
   "outputs": [
    {
     "name": "stdout",
     "output_type": "stream",
     "text": [
      "Caching Daily NETCDF File: oisst-avhrr-v02r01.20211101.nc\n",
      "Caching Daily NETCDF File: oisst-avhrr-v02r01.20211102.nc\n",
      "Caching Daily NETCDF File: oisst-avhrr-v02r01.20211103.nc\n",
      "Caching Daily NETCDF File: oisst-avhrr-v02r01.20211104.nc\n",
      "Caching Daily NETCDF File: oisst-avhrr-v02r01.20211105.nc\n",
      "Caching Daily NETCDF File: oisst-avhrr-v02r01.20211106.nc\n",
      "Caching Daily NETCDF File: oisst-avhrr-v02r01.20211107.nc\n",
      "Caching Daily NETCDF File: oisst-avhrr-v02r01.20211108.nc\n",
      "Caching Daily NETCDF File: oisst-avhrr-v02r01.20211109.nc\n",
      "Caching Daily NETCDF File: oisst-avhrr-v02r01.20211110.nc\n",
      "Caching Daily NETCDF File: oisst-avhrr-v02r01.20211111.nc\n",
      "Caching Daily NETCDF File: oisst-avhrr-v02r01.20211112.nc\n",
      "Caching Daily NETCDF File: oisst-avhrr-v02r01.20211113.nc\n",
      "Caching Daily NETCDF File: oisst-avhrr-v02r01.20211114.nc\n",
      "Caching Daily NETCDF File: oisst-avhrr-v02r01.20211115.nc\n",
      "Caching Daily NETCDF File: oisst-avhrr-v02r01.20211116.nc\n",
      "Caching Daily NETCDF File: oisst-avhrr-v02r01.20211117.nc\n",
      "Caching Daily NETCDF File: oisst-avhrr-v02r01.20211118.nc\n",
      "Caching Daily NETCDF File: oisst-avhrr-v02r01.20211119.nc\n",
      "Caching Daily NETCDF File: oisst-avhrr-v02r01.20211120.nc\n",
      "Caching Daily NETCDF File: oisst-avhrr-v02r01.20211121.nc\n",
      "Caching Daily NETCDF File: oisst-avhrr-v02r01.20211122.nc\n",
      "Caching Daily NETCDF File: oisst-avhrr-v02r01.20211123.nc\n",
      "Caching Daily NETCDF File: oisst-avhrr-v02r01.20211124.nc\n",
      "Caching Daily NETCDF File: oisst-avhrr-v02r01.20211125.nc\n",
      "Caching Daily NETCDF File: oisst-avhrr-v02r01.20211126.nc\n",
      "Caching Daily NETCDF File: oisst-avhrr-v02r01.20211127.nc\n",
      "Caching Daily NETCDF File: oisst-avhrr-v02r01.20211128.nc\n",
      "Caching Daily NETCDF File: oisst-avhrr-v02r01.20211129.nc\n",
      "Caching Daily NETCDF File: oisst-avhrr-v02r01.20211130.nc\n",
      "Prelim and Finalized Data Found for:\n",
      "[]\n",
      "OISSTv2 Cache for 2021/11 Updated Succesfully.\n"
     ]
    }
   ],
   "source": [
    "# Use cache_oisst function to update cache for current month\n",
    "ot.cache_oisst(cache_month = this_month, \n",
    "               update_yr = update_yr, \n",
    "               workspace = workspace, \n",
    "               verbose = True)"
   ]
  },
  {
   "cell_type": "markdown",
   "metadata": {},
   "source": [
    "## 3. Build Annual File"
   ]
  },
  {
   "cell_type": "code",
   "execution_count": 5,
   "metadata": {},
   "outputs": [],
   "source": [
    "# Assemble the annual file\n",
    "oisst_update = ot.build_annual_from_cache(last_month = last_month, \n",
    "                                          this_month = this_month, \n",
    "                                          workspace = workspace, \n",
    "                                          verbose = True)"
   ]
  },
  {
   "cell_type": "markdown",
   "metadata": {},
   "source": [
    "## 4. Check Annual file\n",
    "\n",
    "Want to see consistency in the dimensions, and data from the beginning of the year through to the update month."
   ]
  },
  {
   "cell_type": "code",
   "execution_count": 6,
   "metadata": {},
   "outputs": [
    {
     "data": {
      "text/plain": [
       "[<matplotlib.lines.Line2D at 0x7fb42c2a2898>]"
      ]
     },
     "execution_count": 6,
     "metadata": {},
     "output_type": "execute_result"
    },
    {
     "data": {
      "image/png": "[encoded data removed]",
      "text/plain": [
       "<Figure size 432x288 with 1 Axes>"
      ]
     },
     "metadata": {
      "needs_background": "light"
     },
     "output_type": "display_data"
    }
   ],
   "source": [
    "#oisst_update\n",
    "oisst_update.sst.mean((\"lon\", \"lat\")).plot()"
   ]
  },
  {
   "cell_type": "markdown",
   "metadata": {},
   "source": [
    "## 5. Export Update"
   ]
  },
  {
   "cell_type": "code",
   "execution_count": 7,
   "metadata": {},
   "outputs": [
    {
     "name": "stdout",
     "output_type": "stream",
     "text": [
      "File Saved to /Users/akemberling/Box/RES_Data/OISST/oisst_mainstays/annual_observations/sst.day.mean.2021.v2.nc\n"
     ]
    }
   ],
   "source": [
    "# export update using same file pattern as everything else\n",
    "ot.export_annual_update(cache_root = _cache_root,\n",
    "                        update_yr = update_yr,\n",
    "                        oisst_update = oisst_update)"
   ]
  },
  {
   "cell_type": "markdown",
   "metadata": {},
   "source": [
    "## 6. Update Annual Anomalies"
   ]
  },
  {
   "cell_type": "code",
   "execution_count": 8,
   "metadata": {},
   "outputs": [
    {
     "name": "stdout",
     "output_type": "stream",
     "text": [
      "Updating Year(s): 2021 - 2021\n",
      "Calculating Anomalies for 1982-2011 reference period.\n",
      "Saving anomaly year: 2021\n"
     ]
    }
   ],
   "source": [
    "# Specify year range to update\n",
    "yr_min = 2021\n",
    "yr_max = 2021\n",
    "print(f\"Updating Year(s): {yr_min} - {yr_max}\")\n",
    "\n",
    "# Set desired climatology period\n",
    "reference_period = \"1982-2011\"\n",
    "print(f\"Calculating Anomalies for {reference_period} reference period.\")\n",
    "\n",
    "# Process Global Anomalies for the select years\n",
    "ot.update_global_anomalies(yr_min = yr_min, \n",
    "                           yr_max = yr_max, \n",
    "                           box_root = box_root, \n",
    "                           var_name = \"sst\", \n",
    "                           reference_period = \"1982-2011\")"
   ]
  },
  {
   "cell_type": "markdown",
   "metadata": {},
   "source": [
    "## 7. Update Global Timeseries"
   ]
  },
  {
   "cell_type": "code",
   "execution_count": 9,
   "metadata": {},
   "outputs": [
    {
     "name": "stdout",
     "output_type": "stream",
     "text": [
      "Updating Global Timeseries\n"
     ]
    }
   ],
   "source": [
    "ot.update_global_timeseries(yr_min, yr_max, box_root, var_name = \"sst\", reference_period = \"1982-2011\")"
   ]
  },
  {
   "cell_type": "markdown",
   "metadata": {},
   "source": [
    "## 8. Regional timeseries "
   ]
  },
  {
   "cell_type": "code",
   "execution_count": 10,
   "metadata": {},
   "outputs": [
    {
     "name": "stdout",
     "output_type": "stream",
     "text": [
      "Updating Regional Timeseries for: 2021 - 2021\n",
      "Updating Timeseries for: gmri_sst_focal_areas\n",
      "Updating Timeseries for:\n",
      " - apershing_gulf_of_maine\n",
      " - cpr_gulf_of_maine\n",
      " - aak_northwest_atlantic\n",
      " - long_island_sound\n",
      "Updating Timeseries for: nelme_regions\n",
      "Updating Timeseries for:\n",
      " - GoM\n",
      " - NELME\n",
      " - SNEandMAB\n",
      "Updating Timeseries for: nmfs_trawl_regions\n",
      "Updating Timeseries for:\n",
      " - georges_bank\n",
      " - gulf_of_maine\n",
      " - southern_new_england\n",
      " - mid_atlantic_bight\n",
      " - inuse_strata\n",
      " - regions_collection\n",
      "Updating Timeseries for: gom_physio_regions\n",
      "Updating Timeseries for:\n",
      " - bay_of_fundy\n",
      " - bear_seamount\n",
      " - browns_bank\n",
      " - central_gulf_of_maine\n",
      " - continental_slope\n",
      " - eastern_coastal_shelf\n",
      " - georges_bank\n",
      " - georges_basin\n",
      " - jordan_basin\n",
      " - kelvin_seamount\n",
      " - manning_seamount\n",
      " - northern_coastal_shelf\n",
      " - scotian_coastal_shelf\n",
      " - scotian_shelf\n",
      " - southern_coastal_shelf\n",
      " - wikinson_basin\n",
      "Updating Timeseries for: lme\n",
      "Updating Timeseries for:\n",
      " - agulhas_current\n",
      " - aleutian_islands\n",
      " - antarctica\n",
      " - arabian_sea\n",
      " - baltic_sea\n",
      " - barents_sea\n",
      " - bay_of_bengal\n",
      " - beaufort_sea\n",
      " - benguela_current\n",
      " - black_sea\n",
      " - california_current\n",
      " - canadian_eastern_arctic_west_greenland\n",
      " - canadian_high_arctic_north_greenland\n",
      " - canary_current\n",
      " - caribbean_sea\n",
      " - celtic_biscay_shelf\n",
      " - central_arctic\n",
      " - east_bering_sea\n",
      " - east_brazil_shelf\n",
      " - east_central_australian_shelf\n",
      " - east_china_sea\n",
      " - east_siberian_sea\n",
      " - faroe_plateau\n",
      " - greenland_sea\n",
      " - guinea_current\n",
      " - gulf_of_alaska\n",
      " - gulf_of_california\n",
      " - gulf_of_mexico\n",
      " - gulf_of_thailand\n",
      " - hudson_bay_complex\n",
      " - humboldt_current\n",
      " - iberian_coastal\n",
      " - iceland_shelf_and_sea\n",
      " - indonesian_sea\n",
      " - insular_pacific_hawaiian\n",
      " - kara_sea\n",
      " - kuroshio_current\n",
      " - labrador_newfoundland\n",
      " - laptev_sea\n",
      " - mediterranean_sea\n",
      " - new_zealand_shelf\n",
      " - north_australian_shelf\n",
      " - north_brazil_shelf\n",
      " - north_sea\n",
      " - northeast_australian_shelf\n",
      " - northeast_us_continental_shelf\n",
      " - northern_bering_chukchi_seas\n",
      " - northwest_australian_shelf\n",
      " - norwegian_sea\n",
      " - oyashio_current\n",
      " - pacific_central_american_coastal\n",
      " - patagonian_shelf\n",
      " - red_sea\n",
      " - scotian_shelf\n",
      " - sea_of_japan\n",
      " - sea_of_okhotsk\n",
      " - somali_coastal_current\n",
      " - south_brazil_shelf\n",
      " - south_china_sea\n",
      " - south_west_australian_shelf\n",
      " - southeast_australian_shelf\n",
      " - southeast_us_continental_shelf\n",
      " - sulu_celebes_sea\n",
      " - west_bering_sea\n",
      " - west_central_australian_shelf\n",
      " - yellow_sea\n"
     ]
    }
   ],
   "source": [
    "# start and end years for the update\n",
    "start_yr = 2021\n",
    "end_yr   = 2021\n",
    "print(f\"Updating Regional Timeseries for: {start_yr} - {end_yr}\")\n",
    "\n",
    "# variable name to mask and make timeline from\n",
    "var_name = \"sst\"\n",
    "\n",
    "# GMRI Focal Areas\n",
    "ot.update_regional_timeseries_collection(start_yr = start_yr, end_yr = end_yr, region_collection = \"gmri_sst_focal_areas\", box_root = box_root)\n",
    "\n",
    "# Northeast Marine Regions\n",
    "ot.update_regional_timeseries_collection(start_yr = start_yr, end_yr = end_yr, region_collection = \"nelme_regions\", box_root = box_root)\n",
    "\n",
    "# NMFS Trawl Regions\n",
    "ot.update_regional_timeseries_collection(start_yr = start_yr, end_yr = end_yr, region_collection = \"nmfs_trawl_regions\", box_root = box_root)\n",
    "\n",
    "# Gulf of Maine Physio Regions\n",
    "ot.update_regional_timeseries_collection(start_yr = start_yr, end_yr = end_yr, region_collection = \"gom_physio_regions\", box_root = box_root)\n",
    "\n",
    "# Large Marine Ecosystems\n",
    "ot.update_regional_timeseries_collection(start_yr = start_yr, end_yr = end_yr, region_collection = \"lme\", box_root = box_root)"
   ]
  },
  {
   "cell_type": "markdown",
   "metadata": {},
   "source": [
    "# 9. Make Monthly Files"
   ]
  },
  {
   "cell_type": "code",
   "execution_count": 11,
   "metadata": {},
   "outputs": [],
   "source": [
    "# Load all the daily files we have\n",
    "oisst_temp_daily = ot.load_box_oisst(box_root, start_yr = 1981, end_yr = update_yr, anomalies = False, do_parallel = True)\n",
    "oisst_anoms_daily = ot.load_box_oisst(box_root, start_yr = 1981, end_yr = update_yr, anomalies = True, do_parallel = True)\n",
    "\n",
    "# Use resample to get monthly averages for each year - keeps index of time\n",
    "oisst_months = oisst_temp_daily.resample(time = \"1M\").mean(dim = \"time\")\n",
    "anom_months = oisst_anoms_daily.resample(time = \"1M\").mean(dim = \"time\")\n",
    "# oisst_months.sst.isel(time = 5).plot()\n",
    "# anom_months.sst.isel(time = 5).plot()\n",
    "\n",
    "# Combine to same Dataset\n",
    "month_tidy = xr.merge([oisst_months, anom_months.rename({\"sst\": \"sst_anom\"})])\n",
    "\n",
    "# Set Attributes: TBD\n",
    "\n"
   ]
  },
  {
   "cell_type": "code",
   "execution_count": 12,
   "metadata": {},
   "outputs": [
    {
     "name": "stderr",
     "output_type": "stream",
     "text": [
      "/Users/akemberling/opt/anaconda2/envs/py36/lib/python3.6/site-packages/dask/array/numpy_compat.py:40: RuntimeWarning: invalid value encountered in true_divide\n",
      "  x = np.divide(x1, x2, out)\n"
     ]
    },
    {
     "name": "stdout",
     "output_type": "stream",
     "text": [
      "Saving Monthly Averages\n"
     ]
    }
   ],
   "source": [
    "# Save out monthly netcdf\n",
    "out_path = f'{box_root}RES_Data/OISST/oisst_mainstays/monthly_averages/oisst_monthly.nc'\n",
    "month_tidy.to_netcdf(out_path)\n",
    "print(\"Saving Monthly Averages\")"
   ]
  },
  {
   "cell_type": "code",
   "execution_count": null,
   "metadata": {},
   "outputs": [],
   "source": []
  }
 ],
 "metadata": {
  "kernelspec": {
   "display_name": "Python 3",
   "language": "python",
   "name": "python3"
  },
  "language_info": {
   "codemirror_mode": {
    "name": "ipython",
    "version": 3
   },
   "file_extension": ".py",
   "mimetype": "text/x-python",
   "name": "python",
   "nbconvert_exporter": "python",
   "pygments_lexer": "ipython3",
   "version": "3.6.7"
  }
 },
 "nbformat": 4,
 "nbformat_minor": 4
}
