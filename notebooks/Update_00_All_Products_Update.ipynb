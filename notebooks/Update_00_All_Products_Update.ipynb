{
 "cells": [
  {
   "attachments": {},
   "cell_type": "markdown",
   "metadata": {},
   "source": [
    "# OISSTv2 Live Updating Workflow\n",
    "\n",
    "This notebook is for documenting the steps to build a single annual OISSTv2 file using update caches. The processing of global anomalies, and the regional timelines that we keep on hand for analyses. \n",
    "\n",
    "The steps were developed initially in `Update_01_Download_OISST` then the steps were abstracted into functions and placed into the `oisstools.py` module. This notebook will follow the same steps but with much less code, hopefully with less room for error.\n",
    "\n",
    "**EDIT:**\n",
    "This notebook exists to document the processing steps, but the ultimate goal would be to replace this notebook with script workflows using prefect in `oisst_prefect.py`. Use this notebook for debugging or extending the workflow, then transfer to `oisst_prefect.py`"
   ]
  },
  {
   "cell_type": "code",
   "execution_count": 6,
   "metadata": {},
   "outputs": [
    {
     "name": "stdout",
     "output_type": "stream",
     "text": [
      "Working via directory at: /Users/akemberling/Library/CloudStorage/Box-Box/\n",
      "Updated using months:     11 & 12, Year: 2023\n",
      "Updating Year(s):         2023 - 2023\n"
     ]
    },
    {
     "data": {
      "text/plain": [
       "['.DS_Store', 'Box-Box']"
      ]
     },
     "execution_count": 6,
     "metadata": {},
     "output_type": "execute_result"
    }
   ],
   "source": [
    "# Libraries\n",
    "from bs4 import BeautifulSoup\n",
    "# import requests\n",
    "import os\n",
    "import xarray as xr\n",
    "import datetime\n",
    "import oisstools as ot\n",
    "\n",
    "\n",
    "#### 1. Set workspace\n",
    "workspace = \"local\"\n",
    "box_root = ot.set_workspace(\"local\")\n",
    "_cache_root = ot.set_cache_root(box_root)\n",
    "\n",
    "\n",
    "#### 2. What Months are we checking?\n",
    "# this_month = ot.get_update_month(return_this_month = True)\n",
    "# last_month = ot.get_update_month(return_this_month = False)\n",
    "# update_yr  = ot.check_update_yr(for_this_month = True)\n",
    "\n",
    "# ### Manual Month/Year Selection\n",
    "last_month = \"11\"\n",
    "this_month = \"12\"\n",
    "update_yr = \"2023\"\n",
    "\n",
    "\n",
    "# Specify year range to update for anomaly timeseries\n",
    "yr_min = update_yr\n",
    "yr_max = update_yr\n",
    "\n",
    "\n",
    "# variable name to mask and make timeline from\n",
    "var_name = \"sst\"\n",
    "\n",
    "\n",
    "#### 3. Print Last Update\n",
    "print(f\"Working via directory at: {box_root}\")\n",
    "print(f\"Updated using months:     {last_month} & {this_month}, Year: {update_yr}\")\n",
    "print(f\"Updating Year(s):         {yr_min} - {yr_max}\")\n",
    "\n",
    "# Check that the root directory isn't broken\n",
    "os. listdir('/Users/akemberling/Library/CloudStorage/') "
   ]
  },
  {
   "attachments": {},
   "cell_type": "markdown",
   "metadata": {},
   "source": [
    "## 1. Download Daily Files for Last Month\n",
    "\n",
    "The first step in the process is to hit the NCEI data catalog and download all daily `.nc` files for the previous month. If the current month is January this will not run, returning a message. Files in the data catalog have text prefixes indicating whether or not the data is preliminary or not, the cache function will note all files cached, whether or not preliminary files were included, and whether preliminary files were deleted now that their finalized data has become available."
   ]
  },
  {
   "cell_type": "code",
   "execution_count": 7,
   "metadata": {},
   "outputs": [
    {
     "name": "stdout",
     "output_type": "stream",
     "text": [
      "Caching Daily NETCDF File: oisst-avhrr-v02r01.20231101.nc\n",
      "Caching Daily NETCDF File: oisst-avhrr-v02r01.20231102.nc\n",
      "Caching Daily NETCDF File: oisst-avhrr-v02r01.20231103.nc\n",
      "Caching Daily NETCDF File: oisst-avhrr-v02r01.20231104.nc\n",
      "Caching Daily NETCDF File: oisst-avhrr-v02r01.20231105.nc\n",
      "Caching Daily NETCDF File: oisst-avhrr-v02r01.20231106.nc\n",
      "Caching Daily NETCDF File: oisst-avhrr-v02r01.20231107.nc\n",
      "Caching Daily NETCDF File: oisst-avhrr-v02r01.20231108.nc\n",
      "Caching Daily NETCDF File: oisst-avhrr-v02r01.20231109.nc\n",
      "Caching Daily NETCDF File: oisst-avhrr-v02r01.20231110.nc\n",
      "Caching Daily NETCDF File: oisst-avhrr-v02r01.20231111.nc\n",
      "Caching Daily NETCDF File: oisst-avhrr-v02r01.20231112.nc\n",
      "Caching Daily NETCDF File: oisst-avhrr-v02r01.20231113.nc\n",
      "Caching Daily NETCDF File: oisst-avhrr-v02r01.20231114.nc\n",
      "Caching Daily NETCDF File: oisst-avhrr-v02r01.20231115.nc\n",
      "Caching Daily NETCDF File: oisst-avhrr-v02r01.20231116.nc\n",
      "Caching Daily NETCDF File: oisst-avhrr-v02r01.20231117.nc\n",
      "Caching Daily NETCDF File: oisst-avhrr-v02r01.20231118.nc\n",
      "Caching Daily NETCDF File: oisst-avhrr-v02r01.20231119.nc\n",
      "Caching Daily NETCDF File: oisst-avhrr-v02r01.20231120.nc\n",
      "Caching Daily NETCDF File: oisst-avhrr-v02r01.20231121.nc\n",
      "Caching Daily NETCDF File: oisst-avhrr-v02r01.20231122.nc\n",
      "Caching Daily NETCDF File: oisst-avhrr-v02r01.20231123.nc\n",
      "Caching Daily NETCDF File: oisst-avhrr-v02r01.20231124.nc\n",
      "Caching Daily NETCDF File: oisst-avhrr-v02r01.20231125.nc\n",
      "Caching Daily NETCDF File: oisst-avhrr-v02r01.20231126.nc\n",
      "Caching Daily NETCDF File: oisst-avhrr-v02r01.20231127.nc\n",
      "Caching Daily NETCDF File: oisst-avhrr-v02r01.20231128.nc\n",
      "Caching Daily NETCDF File: oisst-avhrr-v02r01.20231129.nc\n",
      "Caching Daily NETCDF File: oisst-avhrr-v02r01.20231130.nc\n",
      "Prelim and Finalized Data Found for:\n",
      "[]\n",
      "OISSTv2 Cache for 202311 Updated Succesfully.\n"
     ]
    }
   ],
   "source": [
    "# Use cache_oisst function to update cache for last month\n",
    "if last_month != \"12\":\n",
    "    ot.cache_oisst(\n",
    "        # cache_month = \"11\", \n",
    "        # update_yr = \"2023\",\n",
    "        cache_month = last_month, \n",
    "        update_yr = update_yr, \n",
    "        workspace = workspace, \n",
    "        verbose = True)\n",
    "else:\n",
    "    print(\"Last month not updated because of year transition\")    "
   ]
  },
  {
   "attachments": {},
   "cell_type": "markdown",
   "metadata": {},
   "source": [
    "## 2. Download Daily Files for This Month\n",
    "\n",
    "The second step repeats the exact process as step 1., but for the current month. There is no issue of overlapping years so there is no check against whether or not it is January etc. this time."
   ]
  },
  {
   "cell_type": "code",
   "execution_count": 8,
   "metadata": {},
   "outputs": [
    {
     "name": "stdout",
     "output_type": "stream",
     "text": [
      "Caching Daily NETCDF File: oisst-avhrr-v02r01.20231201.nc\n",
      "Caching Daily NETCDF File: oisst-avhrr-v02r01.20231202.nc\n",
      "Caching Daily NETCDF File: oisst-avhrr-v02r01.20231203.nc\n",
      "Caching Daily NETCDF File: oisst-avhrr-v02r01.20231204.nc\n",
      "Caching Daily NETCDF File: oisst-avhrr-v02r01.20231205.nc\n",
      "Caching Daily NETCDF File: oisst-avhrr-v02r01.20231206.nc\n",
      "Caching Daily NETCDF File: oisst-avhrr-v02r01.20231207.nc\n",
      "Caching Daily NETCDF File: oisst-avhrr-v02r01.20231208.nc\n",
      "Caching Daily NETCDF File: oisst-avhrr-v02r01.20231209.nc\n",
      "Caching Daily NETCDF File: oisst-avhrr-v02r01.20231210.nc\n",
      "Caching Daily NETCDF File: oisst-avhrr-v02r01.20231211.nc\n",
      "Caching Daily NETCDF File: oisst-avhrr-v02r01.20231212.nc\n",
      "Caching Daily NETCDF File: oisst-avhrr-v02r01.20231213.nc\n",
      "Caching Daily NETCDF File: oisst-avhrr-v02r01.20231214.nc\n",
      "Caching Daily NETCDF File: oisst-avhrr-v02r01.20231215.nc\n",
      "Caching Daily NETCDF File: oisst-avhrr-v02r01.20231216.nc\n",
      "Caching Daily NETCDF File: oisst-avhrr-v02r01.20231217.nc\n",
      "Caching Daily NETCDF File: oisst-avhrr-v02r01.20231218_preliminary.nc\n",
      "Caching Daily NETCDF File: oisst-avhrr-v02r01.20231219_preliminary.nc\n",
      "Caching Daily NETCDF File: oisst-avhrr-v02r01.20231220_preliminary.nc\n",
      "Caching Daily NETCDF File: oisst-avhrr-v02r01.20231221_preliminary.nc\n",
      "Caching Daily NETCDF File: oisst-avhrr-v02r01.20231222_preliminary.nc\n",
      "Caching Daily NETCDF File: oisst-avhrr-v02r01.20231223_preliminary.nc\n",
      "Caching Daily NETCDF File: oisst-avhrr-v02r01.20231224_preliminary.nc\n",
      "Caching Daily NETCDF File: oisst-avhrr-v02r01.20231225_preliminary.nc\n",
      "Caching Daily NETCDF File: oisst-avhrr-v02r01.20231226_preliminary.nc\n",
      "Caching Daily NETCDF File: oisst-avhrr-v02r01.20231227_preliminary.nc\n",
      "Caching Daily NETCDF File: oisst-avhrr-v02r01.20231228_preliminary.nc\n",
      "Caching Daily NETCDF File: oisst-avhrr-v02r01.20231229_preliminary.nc\n",
      "Caching Daily NETCDF File: oisst-avhrr-v02r01.20231230_preliminary.nc\n",
      "Caching Daily NETCDF File: oisst-avhrr-v02r01.20231231_preliminary.nc\n",
      "Current month preliminary data found for: 20231227\n",
      "Current month preliminary data found for: 20231220\n",
      "Current month preliminary data found for: 20231228\n",
      "Current month preliminary data found for: 20231229\n",
      "Current month preliminary data found for: 20231221\n",
      "Current month preliminary data found for: 20231226\n",
      "Current month preliminary data found for: 20231231\n",
      "Current month preliminary data found for: 20231224\n",
      "Current month preliminary data found for: 20231223\n",
      "Current month preliminary data found for: 20231222\n",
      "Current month preliminary data found for: 20231225\n",
      "Current month preliminary data found for: 20231230\n",
      "Current month preliminary data found for: 20231219\n",
      "Current month preliminary data found for: 20231216\n",
      "Current month preliminary data found for: 20231217\n",
      "Current month preliminary data found for: 20231218\n",
      "Current month preliminary data found for: 20231215\n",
      "Current month preliminary data found for: 20231214\n",
      "Prelim and Finalized Data Found for:\n",
      "['20231214', '20231215', '20231216', '20231217']\n",
      "File Removed for Finalized Data: /Users/akemberling/Library/CloudStorage/Box-Box/RES_Data/OISST/oisst_mainstays/update_caches/202312/oisst-avhrr-v02r01.20231214_preliminary.nc\n",
      "File Removed for Finalized Data: /Users/akemberling/Library/CloudStorage/Box-Box/RES_Data/OISST/oisst_mainstays/update_caches/202312/oisst-avhrr-v02r01.20231215_preliminary.nc\n",
      "File Removed for Finalized Data: /Users/akemberling/Library/CloudStorage/Box-Box/RES_Data/OISST/oisst_mainstays/update_caches/202312/oisst-avhrr-v02r01.20231216_preliminary.nc\n",
      "File Removed for Finalized Data: /Users/akemberling/Library/CloudStorage/Box-Box/RES_Data/OISST/oisst_mainstays/update_caches/202312/oisst-avhrr-v02r01.20231217_preliminary.nc\n",
      "OISSTv2 Cache for 202312 Updated Succesfully.\n"
     ]
    }
   ],
   "source": [
    "# Use cache_oisst function to update cache for current month\n",
    "ot.cache_oisst(\n",
    "    # cache_month = \"08\", \n",
    "    # update_yr = \"2023\",\n",
    "    cache_month = this_month,\n",
    "    update_yr = update_yr, \n",
    "    workspace = workspace, \n",
    "    verbose = True)"
   ]
  },
  {
   "attachments": {},
   "cell_type": "markdown",
   "metadata": {},
   "source": [
    "## 3. Build Annual File\n",
    "\n",
    "This step takes the daily cache files that have been incrementally added throughout the year, and appends them into a single yearly `.nc` file."
   ]
  },
  {
   "cell_type": "code",
   "execution_count": 9,
   "metadata": {},
   "outputs": [
    {
     "name": "stdout",
     "output_type": "stream",
     "text": [
      "Updating Annual File for 2023 at: 2024-01-01 15:32:30.415680\n"
     ]
    }
   ],
   "source": [
    "# Assemble the annual file\n",
    "oisst_update = ot.build_annual_from_cache(\n",
    "    update_yr = update_yr,\n",
    "    last_month = last_month, \n",
    "    this_month = this_month, \n",
    "    workspace = workspace, \n",
    "    verbose = True)\n",
    "print(f\"Updating Annual File for {update_yr} at: {datetime.datetime.now()}\")"
   ]
  },
  {
   "attachments": {},
   "cell_type": "markdown",
   "metadata": {},
   "source": [
    "## 4. Export Update\n",
    "\n",
    "In this step the annual file is saved back to box, replacing/updating the global annual file."
   ]
  },
  {
   "cell_type": "code",
   "execution_count": 10,
   "metadata": {},
   "outputs": [
    {
     "name": "stdout",
     "output_type": "stream",
     "text": [
      "File Saved to /Users/akemberling/Library/CloudStorage/Box-Box/RES_Data/OISST/oisst_mainstays/annual_observations/sst.day.mean.2023.v2.nc\n",
      "Saving Annual File for 2023 at: 2024-01-01 15:32:49.425484\n"
     ]
    }
   ],
   "source": [
    "# export update using same file pattern as everything else\n",
    "ot.export_annual_update(\n",
    "    cache_root   = _cache_root,\n",
    "    update_yr    = update_yr,\n",
    "    oisst_update = oisst_update)\n",
    "print(f\"Saving Annual File for {update_yr} at: {datetime.datetime.now()}\")"
   ]
  },
  {
   "attachments": {},
   "cell_type": "markdown",
   "metadata": {},
   "source": [
    "## 5. Check Annual file\n",
    "\n",
    "This next step is just a visual check of the full timeseries to see what dates have been included and to visualize those trends."
   ]
  },
  {
   "cell_type": "code",
   "execution_count": 11,
   "metadata": {},
   "outputs": [
    {
     "data": {
      "text/plain": [
       "[<matplotlib.lines.Line2D at 0x7febfaf1cfd0>]"
      ]
     },
     "execution_count": 11,
     "metadata": {},
     "output_type": "execute_result"
    },
    {
     "data": {
      "image/png": "[encoded data removed]",
      "text/plain": [
       "<Figure size 432x288 with 1 Axes>"
      ]
     },
     "metadata": {
      "needs_background": "light"
     },
     "output_type": "display_data"
    }
   ],
   "source": [
    "# Close to see if the saving is working\n",
    "oisst_update.close()\n",
    "\n",
    "# load from where update is saved \n",
    "oisst_update = ot.load_box_oisst(\n",
    "    box_root = box_root, \n",
    "    start_yr = update_yr, \n",
    "    end_yr = update_yr, \n",
    "    anomalies = False, \n",
    "    do_parallel = True\n",
    ")\n",
    "oisst_update.sst.mean((\"lon\", \"lat\")).plot()"
   ]
  },
  {
   "attachments": {},
   "cell_type": "markdown",
   "metadata": {},
   "source": [
    "## 6. Update Annual Anomalies\n",
    "\n",
    "This step has the opportunity to update anomalies for a range of years, the default update year is the `update_yr` value set at the top of the notbeook.\n",
    "\n",
    "The process for this step is to match the current year annual file just updated, to the 30-year climatology we have on file. The anomalies are calculated and saved as their own annual NetCDF.\n",
    "\n",
    "## 6B. Update Anomalies for New Climatology\n",
    "\n",
    "Beginning in 2022, the climatology used by the world meteorlogical organization transitioned from a 1982-2011 climatology to a 1991-2020 climatology. At this point we decided to maintain anomalies from the new climatology in our records rather than the former climatological reference period."
   ]
  },
  {
   "cell_type": "code",
   "execution_count": 12,
   "metadata": {},
   "outputs": [
    {
     "name": "stdout",
     "output_type": "stream",
     "text": [
      "Calculating Anomalies for 1991-2020 reference period.\n",
      "Saving anomaly year: 2023\n"
     ]
    }
   ],
   "source": [
    "# # Set desired climatology period\n",
    "# reference_period = \"1982-2011\"\n",
    "# print(f\"Calculating Anomalies for {reference_period} reference period.\")\n",
    "\n",
    "# # Process Global Anomalies for the select years\n",
    "# ot.update_global_anomalies(\n",
    "#     yr_min = yr_min, \n",
    "#     yr_max = yr_max, \n",
    "#     box_root = box_root, \n",
    "#     var_name = \"sst\", \n",
    "#     reference_period = reference_period)\n",
    "\n",
    "\n",
    "# Set desired climatology period\n",
    "reference_period = \"1991-2020\"\n",
    "print(f\"Calculating Anomalies for {reference_period} reference period.\")\n",
    "\n",
    "# Process Global Anomalies for the select years\n",
    "ot.update_global_anomalies(\n",
    "    yr_min = yr_min, \n",
    "    yr_max = yr_max, \n",
    "    box_root = box_root, \n",
    "    var_name = \"sst\", \n",
    "    reference_period = reference_period)"
   ]
  },
  {
   "attachments": {},
   "cell_type": "markdown",
   "metadata": {},
   "source": [
    "## 7. Update Global Timeseries\n",
    "\n",
    "This step saves the daily temperatures, climatological averages, and daily temperature anomalies for the earth as a whole in the form of a pandas dataframe."
   ]
  },
  {
   "cell_type": "code",
   "execution_count": 8,
   "metadata": {},
   "outputs": [
    {
     "name": "stdout",
     "output_type": "stream",
     "text": [
      "Updating Global Timeseries\n"
     ]
    }
   ],
   "source": [
    "# Update the timeseries of global temps/anoms\n",
    "ot.update_global_timeseries(\n",
    "    yr_min = yr_min, \n",
    "    yr_max = yr_max, \n",
    "    box_root = box_root, \n",
    "    var_name = \"sst\", \n",
    "    reference_period = \"1982-2011\")"
   ]
  },
  {
   "attachments": {},
   "cell_type": "markdown",
   "metadata": {},
   "source": [
    "## 8. Regional Collections:\n",
    "\n",
    "This point is the transition from gridded global datasets to dataframe/tabular datasets specific to different masking regions. These regions are organized by collections and processed in those groups.\n",
    "\n",
    "The way groups are organized is detailed in the `oisstools.py`. There are lookup functions that list out where each collection of shapefiles is found, what their naming conventions are (prefixes/suffixes), and their file extensions (.shp/.geojson). \n",
    "\n",
    "To add a new collection these steps should be followed:\n",
    " * Place the relevant shapefiles into a single folder in the cloud storage space\n",
    " * List their names following the guide of the other groups\n",
    " * Make a matching folder for the timeseries that will live in the `oisst_mainstays/` directory\n",
    " * Run them all together using `ot.update_regional_timeseries_collection()`\n",
    "\n",
    "\n",
    "\n",
    "\n",
    "### GMRI Focal Areas\n",
    "\n",
    "At GMRI there are a handful of areas that we keep tabs on because they relate to certain datasets, or they have regional importance worth tracking. This collection includes the bounding box for the Gulf of Maine that Andy had historically used, the footprint for CPR data used as the Gulf of Maine, Long Island Sound, and also the Northwest Atlantic off the coast of Greenland.\n",
    "\n",
    "### Northeast Trawl Survey Regions\n",
    "\n",
    "This collection includes region designations that are aggregates of trawl survey strata. This collection includes, Gulf of Maine, Georges Bank, Southern New England, Mid-Atlantic Bight, and the whole region (excluding strata that are usually omitted from analyses i.e. inshore strata)\n",
    "\n",
    "### Ecological Production Units\n",
    "\n",
    "This collection includes 4 regions along the Northeast US coastal shelf that have been found to have a unique combination of oceanographic, biotic, and bathymetric features. This includes a shapefile for Gulf of Maine, Georges Bank, Scotian Shelf (within US waters only), and the Mid-Atlantic Bight\n",
    "\n",
    "Shapefile Source: ecodata r-package\n",
    "\n",
    "### Large Marine Ecosystems\n",
    "\n",
    "This collection contains all large marine ecosystems: https://ioc.unesco.org/topics/large-marine-ecosystems#:~:text=Large%20marine%20ecosystems%20(LMEs)%20are,the%20major%20ocean%20current%20systems./"
   ]
  },
  {
   "cell_type": "code",
   "execution_count": 13,
   "metadata": {},
   "outputs": [
    {
     "name": "stdout",
     "output_type": "stream",
     "text": [
      "Updating Timeseries for: gmri_sst_focal_areas\n",
      "Updating Timeseries for:\n",
      " - apershing_gulf_of_maine\n",
      " - cpr_gulf_of_maine\n",
      " - aak_northwest_atlantic\n",
      " - long_island_sound\n",
      "Updating Timeseries for: nmfs_trawl_regions\n",
      "Updating Timeseries for:\n",
      " - georges_bank\n",
      " - gulf_of_maine\n",
      " - southern_new_england\n",
      " - mid_atlantic_bight\n",
      " - inuse_strata\n",
      " - regions_collection\n",
      "Updating Timeseries for: epu\n",
      "Updating Timeseries for:\n",
      " - GB\n",
      " - GOM\n",
      " - MAB\n",
      " - SS\n",
      "Updating Timeseries for: lme\n",
      "Updating Timeseries for:\n",
      " - agulhas_current\n",
      " - aleutian_islands\n",
      " - antarctica\n",
      " - arabian_sea\n",
      " - baltic_sea\n",
      " - barents_sea\n",
      " - bay_of_bengal\n",
      " - beaufort_sea\n",
      " - benguela_current\n",
      " - black_sea\n",
      " - california_current\n",
      " - canadian_eastern_arctic_west_greenland\n",
      " - canadian_high_arctic_north_greenland\n",
      " - canary_current\n",
      " - caribbean_sea\n",
      " - celtic_biscay_shelf\n",
      " - central_arctic\n",
      " - east_bering_sea\n",
      " - east_brazil_shelf\n",
      " - east_central_australian_shelf\n",
      " - east_china_sea\n",
      " - east_siberian_sea\n",
      " - faroe_plateau\n",
      " - greenland_sea\n",
      " - guinea_current\n",
      " - gulf_of_alaska\n",
      " - gulf_of_california\n",
      " - gulf_of_mexico\n",
      " - gulf_of_thailand\n",
      " - hudson_bay_complex\n",
      " - humboldt_current\n",
      " - iberian_coastal\n",
      " - iceland_shelf_and_sea\n",
      " - indonesian_sea\n",
      " - insular_pacific_hawaiian\n",
      " - kara_sea\n",
      " - kuroshio_current\n",
      " - labrador_newfoundland\n",
      " - laptev_sea\n",
      " - mediterranean_sea\n",
      " - new_zealand_shelf\n",
      " - north_australian_shelf\n",
      " - north_brazil_shelf\n",
      " - north_sea\n",
      " - northeast_australian_shelf\n",
      " - northeast_us_continental_shelf\n",
      " - northern_bering_chukchi_seas\n",
      " - northwest_australian_shelf\n",
      " - norwegian_sea\n",
      " - oyashio_current\n",
      " - pacific_central_american_coastal\n",
      " - patagonian_shelf\n",
      " - red_sea\n",
      " - scotian_shelf\n",
      " - sea_of_japan\n",
      " - sea_of_okhotsk\n",
      " - somali_coastal_current\n",
      " - south_brazil_shelf\n",
      " - south_china_sea\n",
      " - south_west_australian_shelf\n",
      " - southeast_australian_shelf\n",
      " - southeast_us_continental_shelf\n",
      " - sulu_celebes_sea\n",
      " - west_bering_sea\n",
      " - west_central_australian_shelf\n",
      " - yellow_sea\n"
     ]
    }
   ],
   "source": [
    "#### Update the regional timeseries groups: ####\n",
    "\n",
    "# There is a shapely warning about multi-part polygons. This does not effect the output we care about, but is a warning about deprecated functionality and is suppressed here\n",
    "import warnings\n",
    "warnings.filterwarnings('ignore')\n",
    "\n",
    "\n",
    "# GMRI Focal Areas\n",
    "ot.update_regional_timeseries_collection(\n",
    "    start_yr = yr_min, \n",
    "    end_yr = yr_max, \n",
    "    region_collection = \"gmri_sst_focal_areas\", \n",
    "    box_root = box_root)\n",
    "\n",
    "# NMFS Trawl Regions\n",
    "ot.update_regional_timeseries_collection(\n",
    "    start_yr = yr_min, \n",
    "    end_yr = yr_max, \n",
    "    region_collection = \"nmfs_trawl_regions\", \n",
    "    box_root = box_root)\n",
    "\n",
    "ot.update_regional_timeseries_collection(\n",
    "    start_yr = yr_min, \n",
    "    end_yr = yr_max, \n",
    "    region_collection = \"epu\", \n",
    "    box_root = box_root)\n",
    "\n",
    "# Large Marine Ecosystems\n",
    "ot.update_regional_timeseries_collection(\n",
    "    start_yr = yr_min, \n",
    "    end_yr = yr_max, \n",
    "    region_collection = \"lme\", \n",
    "    box_root = box_root)\n",
    "\n"
   ]
  },
  {
   "attachments": {},
   "cell_type": "markdown",
   "metadata": {
    "tags": []
   },
   "source": [
    "---\n",
    "\n",
    "### MarineRegions.org Northeast US Marine Regions\n",
    "\n",
    "I'm unsure where/when these were integrated into our shapefile collection, but they come from marineregions.org and include shapefiles for the Gulf of Maine, Georges Bank, and the Northeastern US LME. All of these include a high level of coastline detail and can be quite slow to load \n",
    "and work with.\n",
    "\n",
    "\n",
    "### Gulf of Maine Physio-Regions\n",
    "\n",
    "PhysioRegions_WGS84 represents the physiographic regions of the Gulf of Maine and the study area for the Census of Marine Life, Gulf of Maine Area program.\n",
    "\n",
    "For a detailed description of physioregion delineation, go to http://research.usm.maine.edu/gulfofmaine-census/about-the-gulf/physical-characteristics/bathymetry/hypsometric-characterization-of-the-gulf-of-maine-georges-bank-scotian-shelf"
   ]
  },
  {
   "cell_type": "code",
   "execution_count": 14,
   "metadata": {
    "collapsed": true,
    "jupyter": {
     "outputs_hidden": true,
     "source_hidden": true
    },
    "tags": []
   },
   "outputs": [],
   "source": [
    "# # Northeast Marine Regions\n",
    "# ot.update_regional_timeseries_collection(\n",
    "#     start_yr = yr_min, \n",
    "#     end_yr = yr_max, \n",
    "#     region_collection = \"nelme_regions\", \n",
    "#     box_root = box_root)\n",
    "\n",
    "# # Gulf of Maine Physio Regions\n",
    "# ot.update_regional_timeseries_collection(\n",
    "#     start_yr = yr_min, \n",
    "#     end_yr = yr_max, \n",
    "#     region_collection = \"gom_physio_regions\", \n",
    "#     box_root = box_root)"
   ]
  }
 ],
 "metadata": {
  "kernelspec": {
   "display_name": "py3oisst",
   "language": "python",
   "name": "python3"
  },
  "language_info": {
   "codemirror_mode": {
    "name": "ipython",
    "version": 3
   },
   "file_extension": ".py",
   "mimetype": "text/x-python",
   "name": "python",
   "nbconvert_exporter": "python",
   "pygments_lexer": "ipython3",
   "version": "3.8.12"
  }
 },
 "nbformat": 4,
 "nbformat_minor": 4
}
