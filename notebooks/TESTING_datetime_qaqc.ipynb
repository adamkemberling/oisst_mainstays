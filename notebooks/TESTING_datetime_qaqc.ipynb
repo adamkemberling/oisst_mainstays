{
 "cells": [
  {
   "cell_type": "markdown",
   "metadata": {},
   "source": [
    "# OISST Datetime Timestamp Management\n",
    "\n",
    "In the `oisst_mainstays` data-stream we have netCDF files coming from two distribution centers:\n",
    " * The NOAA physical sciences laboratory (NOAA PSL)\n",
    " * National Center for Environmental Information (NCEI)\n",
    "\n",
    "While the source data is the same, there is an inconsistency on the time-stamps that are recorded for each day. This difference is **usually** not an issue, because there is only one measurement per-day.\n",
    "\n",
    "However, when these two data sources are combined there is the potential to have duplicate dates. This can happen because one data source labels measurements using a `12:00` noon timestamp (NCEI) & the other uses a midnight `00:00:00` timestamp (PSL).\n",
    "\n",
    "This is an issue particularly in the regional timeseries that are being produced, as there are some duplicate dates slipping through in the 2020-2022 era. This notebook is for isolating how to check against this to implement those steps into `oisstools.py`"
   ]
  },
  {
   "cell_type": "code",
   "execution_count": 1,
   "metadata": {},
   "outputs": [
    {
     "name": "stdout",
     "output_type": "stream",
     "text": [
      "Working via local directory at: /Users/akemberling/Library/CloudStorage/Box-Box/\n"
     ]
    }
   ],
   "source": [
    "# Load Libraries\n",
    "import xarray as xr\n",
    "import matplotlib.pyplot as plt\n",
    "import pandas as pd\n",
    "import numpy as np\n",
    "import netCDF4\n",
    "import datetime\n",
    "import os\n",
    "import oisstools as ot\n",
    "\n",
    "\n",
    "# Set the workspace - local/ docker\n",
    "workspace = \"local\"\n",
    "box_root = ot.set_workspace(workspace)\n",
    "print(f\"Working via {workspace} directory at: {box_root}\")"
   ]
  },
  {
   "cell_type": "markdown",
   "metadata": {},
   "source": [
    "# Load a Timeseries\n",
    "The Gulf of Maine time series has known problems to check against, so I'll start there."
   ]
  },
  {
   "cell_type": "code",
   "execution_count": 2,
   "metadata": {},
   "outputs": [
    {
     "data": {
      "text/html": [
       "<div>\n",
       "<style scoped>\n",
       "    .dataframe tbody tr th:only-of-type {\n",
       "        vertical-align: middle;\n",
       "    }\n",
       "\n",
       "    .dataframe tbody tr th {\n",
       "        vertical-align: top;\n",
       "    }\n",
       "\n",
       "    .dataframe thead th {\n",
       "        text-align: right;\n",
       "    }\n",
       "</style>\n",
       "<table border=\"1\" class=\"dataframe\">\n",
       "  <thead>\n",
       "    <tr style=\"text-align: right;\">\n",
       "      <th></th>\n",
       "      <th>time</th>\n",
       "      <th>sst</th>\n",
       "      <th>area_wtd_sst</th>\n",
       "      <th>modified_ordinal_day</th>\n",
       "      <th>sst_clim</th>\n",
       "      <th>area_wtd_clim</th>\n",
       "      <th>clim_sd</th>\n",
       "      <th>sst_anom</th>\n",
       "      <th>area_wtd_anom</th>\n",
       "    </tr>\n",
       "  </thead>\n",
       "  <tbody>\n",
       "    <tr>\n",
       "      <th>0</th>\n",
       "      <td>1981-09-01</td>\n",
       "      <td>15.780159</td>\n",
       "      <td>15.817860</td>\n",
       "      <td>245</td>\n",
       "      <td>16.430416</td>\n",
       "      <td>16.468410</td>\n",
       "      <td>2.270726</td>\n",
       "      <td>-0.650257</td>\n",
       "      <td>-0.650550</td>\n",
       "    </tr>\n",
       "    <tr>\n",
       "      <th>1</th>\n",
       "      <td>1981-09-02</td>\n",
       "      <td>15.787786</td>\n",
       "      <td>15.823025</td>\n",
       "      <td>246</td>\n",
       "      <td>16.356068</td>\n",
       "      <td>16.393608</td>\n",
       "      <td>2.245650</td>\n",
       "      <td>-0.568282</td>\n",
       "      <td>-0.570583</td>\n",
       "    </tr>\n",
       "    <tr>\n",
       "      <th>2</th>\n",
       "      <td>1981-09-03</td>\n",
       "      <td>15.494051</td>\n",
       "      <td>15.525661</td>\n",
       "      <td>247</td>\n",
       "      <td>16.299295</td>\n",
       "      <td>16.336779</td>\n",
       "      <td>2.232613</td>\n",
       "      <td>-0.805244</td>\n",
       "      <td>-0.811118</td>\n",
       "    </tr>\n",
       "    <tr>\n",
       "      <th>3</th>\n",
       "      <td>1981-09-04</td>\n",
       "      <td>14.993513</td>\n",
       "      <td>15.025630</td>\n",
       "      <td>248</td>\n",
       "      <td>16.261300</td>\n",
       "      <td>16.298191</td>\n",
       "      <td>2.201674</td>\n",
       "      <td>-1.267787</td>\n",
       "      <td>-1.272561</td>\n",
       "    </tr>\n",
       "    <tr>\n",
       "      <th>4</th>\n",
       "      <td>1981-09-05</td>\n",
       "      <td>14.843195</td>\n",
       "      <td>14.874094</td>\n",
       "      <td>249</td>\n",
       "      <td>16.145683</td>\n",
       "      <td>16.182520</td>\n",
       "      <td>2.176677</td>\n",
       "      <td>-1.302488</td>\n",
       "      <td>-1.308426</td>\n",
       "    </tr>\n",
       "  </tbody>\n",
       "</table>\n",
       "</div>"
      ],
      "text/plain": [
       "         time        sst  area_wtd_sst  modified_ordinal_day   sst_clim  \\\n",
       "0  1981-09-01  15.780159     15.817860                   245  16.430416   \n",
       "1  1981-09-02  15.787786     15.823025                   246  16.356068   \n",
       "2  1981-09-03  15.494051     15.525661                   247  16.299295   \n",
       "3  1981-09-04  14.993513     15.025630                   248  16.261300   \n",
       "4  1981-09-05  14.843195     14.874094                   249  16.145683   \n",
       "\n",
       "   area_wtd_clim   clim_sd  sst_anom  area_wtd_anom  \n",
       "0      16.468410  2.270726 -0.650257      -0.650550  \n",
       "1      16.393608  2.245650 -0.568282      -0.570583  \n",
       "2      16.336779  2.232613 -0.805244      -0.811118  \n",
       "3      16.298191  2.201674 -1.267787      -1.272561  \n",
       "4      16.182520  2.176677 -1.302488      -1.308426  "
      ]
     },
     "execution_count": 2,
     "metadata": {},
     "output_type": "execute_result"
    }
   ],
   "source": [
    "# 1. Load the Gulf of Maine\n",
    "# Get their names from lookup catalog\n",
    "region_collection = \"gmri_sst_focal_areas\"\n",
    "region_names = ot.get_region_names(region_group = region_collection)\n",
    "region_paths = ot.get_timeseries_paths(\n",
    "    box_root = box_root, \n",
    "    region_group = region_collection, \n",
    "    region_list = region_names)\n",
    "\n",
    "\n",
    "gom_sst = pd.read_csv(region_paths[0])\n",
    "gom_sst.head()"
   ]
  },
  {
   "cell_type": "markdown",
   "metadata": {},
   "source": [
    "### Interrogate Data Structure\n",
    "\n",
    "Find a way to separate the different date/time components to isolate the issue and label the different data streams."
   ]
  },
  {
   "cell_type": "code",
   "execution_count": 3,
   "metadata": {},
   "outputs": [
    {
     "data": {
      "text/html": [
       "<div>\n",
       "<style scoped>\n",
       "    .dataframe tbody tr th:only-of-type {\n",
       "        vertical-align: middle;\n",
       "    }\n",
       "\n",
       "    .dataframe tbody tr th {\n",
       "        vertical-align: top;\n",
       "    }\n",
       "\n",
       "    .dataframe thead th {\n",
       "        text-align: right;\n",
       "    }\n",
       "</style>\n",
       "<table border=\"1\" class=\"dataframe\">\n",
       "  <thead>\n",
       "    <tr style=\"text-align: right;\">\n",
       "      <th></th>\n",
       "      <th>original</th>\n",
       "      <th>dates</th>\n",
       "      <th>times</th>\n",
       "    </tr>\n",
       "  </thead>\n",
       "  <tbody>\n",
       "    <tr>\n",
       "      <th>0</th>\n",
       "      <td>1981-09-01</td>\n",
       "      <td>1981-09-01</td>\n",
       "      <td>00:00:00</td>\n",
       "    </tr>\n",
       "    <tr>\n",
       "      <th>1</th>\n",
       "      <td>1981-09-02</td>\n",
       "      <td>1981-09-02</td>\n",
       "      <td>00:00:00</td>\n",
       "    </tr>\n",
       "    <tr>\n",
       "      <th>2</th>\n",
       "      <td>1981-09-03</td>\n",
       "      <td>1981-09-03</td>\n",
       "      <td>00:00:00</td>\n",
       "    </tr>\n",
       "    <tr>\n",
       "      <th>3</th>\n",
       "      <td>1981-09-04</td>\n",
       "      <td>1981-09-04</td>\n",
       "      <td>00:00:00</td>\n",
       "    </tr>\n",
       "    <tr>\n",
       "      <th>4</th>\n",
       "      <td>1981-09-05</td>\n",
       "      <td>1981-09-05</td>\n",
       "      <td>00:00:00</td>\n",
       "    </tr>\n",
       "    <tr>\n",
       "      <th>...</th>\n",
       "      <td>...</td>\n",
       "      <td>...</td>\n",
       "      <td>...</td>\n",
       "    </tr>\n",
       "    <tr>\n",
       "      <th>15462</th>\n",
       "      <td>2022-12-01 12:00:00</td>\n",
       "      <td>2022-12-01</td>\n",
       "      <td>12:00:00</td>\n",
       "    </tr>\n",
       "    <tr>\n",
       "      <th>15463</th>\n",
       "      <td>2022-12-02 12:00:00</td>\n",
       "      <td>2022-12-02</td>\n",
       "      <td>12:00:00</td>\n",
       "    </tr>\n",
       "    <tr>\n",
       "      <th>15464</th>\n",
       "      <td>2022-12-03 12:00:00</td>\n",
       "      <td>2022-12-03</td>\n",
       "      <td>12:00:00</td>\n",
       "    </tr>\n",
       "    <tr>\n",
       "      <th>15465</th>\n",
       "      <td>2022-12-04 12:00:00</td>\n",
       "      <td>2022-12-04</td>\n",
       "      <td>12:00:00</td>\n",
       "    </tr>\n",
       "    <tr>\n",
       "      <th>15466</th>\n",
       "      <td>2022-12-05 12:00:00</td>\n",
       "      <td>2022-12-05</td>\n",
       "      <td>12:00:00</td>\n",
       "    </tr>\n",
       "  </tbody>\n",
       "</table>\n",
       "<p>15467 rows × 3 columns</p>\n",
       "</div>"
      ],
      "text/plain": [
       "                  original       dates     times\n",
       "0               1981-09-01  1981-09-01  00:00:00\n",
       "1               1981-09-02  1981-09-02  00:00:00\n",
       "2               1981-09-03  1981-09-03  00:00:00\n",
       "3               1981-09-04  1981-09-04  00:00:00\n",
       "4               1981-09-05  1981-09-05  00:00:00\n",
       "...                    ...         ...       ...\n",
       "15462  2022-12-01 12:00:00  2022-12-01  12:00:00\n",
       "15463  2022-12-02 12:00:00  2022-12-02  12:00:00\n",
       "15464  2022-12-03 12:00:00  2022-12-03  12:00:00\n",
       "15465  2022-12-04 12:00:00  2022-12-04  12:00:00\n",
       "15466  2022-12-05 12:00:00  2022-12-05  12:00:00\n",
       "\n",
       "[15467 rows x 3 columns]"
      ]
     },
     "execution_count": 3,
     "metadata": {},
     "output_type": "execute_result"
    }
   ],
   "source": [
    "\n",
    "# Interrogate the date structures\n",
    "d = {\n",
    "    'original': gom_sst.time, \n",
    "    'dates':    pd.to_datetime(gom_sst.time).dt.date,\n",
    "    'times':    pd.to_datetime(gom_sst.time).dt.time\n",
    "    }\n",
    "\n",
    "# Here is the situation, timestamps jump based on data streams\n",
    "new_df = pd.DataFrame(data=d)\n",
    "new_df"
   ]
  },
  {
   "cell_type": "markdown",
   "metadata": {},
   "source": [
    "### Date Duplications\n",
    "\n",
    "The following dates have duplicate records due to the crossover in data suppliers."
   ]
  },
  {
   "cell_type": "code",
   "execution_count": 4,
   "metadata": {},
   "outputs": [
    {
     "data": {
      "text/plain": [
       "14336    2020-12-01 00:00:00\n",
       "14337    2020-12-01 12:00:00\n",
       "14338    2020-12-02 00:00:00\n",
       "14339    2020-12-02 12:00:00\n",
       "14340    2020-12-03 00:00:00\n",
       "                ...         \n",
       "15123    2021-12-29 12:00:00\n",
       "15124    2021-12-30 00:00:00\n",
       "15125    2021-12-30 12:00:00\n",
       "15126    2021-12-31 00:00:00\n",
       "15127    2021-12-31 12:00:00\n",
       "Name: time, Length: 792, dtype: object"
      ]
     },
     "execution_count": 4,
     "metadata": {},
     "output_type": "execute_result"
    }
   ],
   "source": [
    "# Find duplicates\n",
    "dups = pd.to_datetime(gom_sst.time).dt.date.duplicated(keep = False)\n",
    "gom_sst.loc[dups].time#.head(4)"
   ]
  },
  {
   "cell_type": "markdown",
   "metadata": {},
   "source": [
    "### Method 1: The Blind Drop\n",
    "\n",
    "The laziest way to handle this is to just drop the duplicates. This is problematic because 1) we lose those dates, and 2) we want to preferentially allow one data provider over another when there are these cases."
   ]
  },
  {
   "cell_type": "code",
   "execution_count": 5,
   "metadata": {},
   "outputs": [
    {
     "data": {
      "text/plain": [
       "'We lose 396.0 days of data just dropping all duplicates.'"
      ]
     },
     "execution_count": 5,
     "metadata": {},
     "output_type": "execute_result"
    }
   ],
   "source": [
    "# Filter out the duplicates\n",
    "\n",
    "# Method 1: Blind-Drop\n",
    "test_filter = gom_sst.loc[~dups]\n",
    "f\"We lose {(len(gom_sst) - len(test_filter))/2} days of data just dropping all duplicates.\""
   ]
  },
  {
   "cell_type": "markdown",
   "metadata": {},
   "source": [
    "## Method 2: Preferential Dropping\n",
    "\n",
    "This approach takes a look at the dates to find duplicates, then uses the timestamp to determine data provider, and makes a preferential decision to keep one over the other."
   ]
  },
  {
   "cell_type": "code",
   "execution_count": 6,
   "metadata": {},
   "outputs": [
    {
     "data": {
      "text/html": [
       "<div>\n",
       "<style scoped>\n",
       "    .dataframe tbody tr th:only-of-type {\n",
       "        vertical-align: middle;\n",
       "    }\n",
       "\n",
       "    .dataframe tbody tr th {\n",
       "        vertical-align: top;\n",
       "    }\n",
       "\n",
       "    .dataframe thead th {\n",
       "        text-align: right;\n",
       "    }\n",
       "</style>\n",
       "<table border=\"1\" class=\"dataframe\">\n",
       "  <thead>\n",
       "    <tr style=\"text-align: right;\">\n",
       "      <th></th>\n",
       "      <th>time</th>\n",
       "      <th>sst</th>\n",
       "      <th>area_wtd_sst</th>\n",
       "      <th>modified_ordinal_day</th>\n",
       "      <th>sst_clim</th>\n",
       "      <th>area_wtd_clim</th>\n",
       "      <th>clim_sd</th>\n",
       "      <th>sst_anom</th>\n",
       "      <th>area_wtd_anom</th>\n",
       "    </tr>\n",
       "  </thead>\n",
       "  <tbody>\n",
       "    <tr>\n",
       "      <th>0</th>\n",
       "      <td>1981-09-01</td>\n",
       "      <td>15.780159</td>\n",
       "      <td>15.817860</td>\n",
       "      <td>245</td>\n",
       "      <td>16.430416</td>\n",
       "      <td>16.468410</td>\n",
       "      <td>2.270726</td>\n",
       "      <td>-0.650257</td>\n",
       "      <td>-0.650550</td>\n",
       "    </tr>\n",
       "    <tr>\n",
       "      <th>1</th>\n",
       "      <td>1981-09-02</td>\n",
       "      <td>15.787786</td>\n",
       "      <td>15.823025</td>\n",
       "      <td>246</td>\n",
       "      <td>16.356068</td>\n",
       "      <td>16.393608</td>\n",
       "      <td>2.245650</td>\n",
       "      <td>-0.568282</td>\n",
       "      <td>-0.570583</td>\n",
       "    </tr>\n",
       "    <tr>\n",
       "      <th>2</th>\n",
       "      <td>1981-09-03</td>\n",
       "      <td>15.494051</td>\n",
       "      <td>15.525661</td>\n",
       "      <td>247</td>\n",
       "      <td>16.299295</td>\n",
       "      <td>16.336779</td>\n",
       "      <td>2.232613</td>\n",
       "      <td>-0.805244</td>\n",
       "      <td>-0.811118</td>\n",
       "    </tr>\n",
       "    <tr>\n",
       "      <th>3</th>\n",
       "      <td>1981-09-04</td>\n",
       "      <td>14.993513</td>\n",
       "      <td>15.025630</td>\n",
       "      <td>248</td>\n",
       "      <td>16.261300</td>\n",
       "      <td>16.298191</td>\n",
       "      <td>2.201674</td>\n",
       "      <td>-1.267787</td>\n",
       "      <td>-1.272561</td>\n",
       "    </tr>\n",
       "    <tr>\n",
       "      <th>4</th>\n",
       "      <td>1981-09-05</td>\n",
       "      <td>14.843195</td>\n",
       "      <td>14.874094</td>\n",
       "      <td>249</td>\n",
       "      <td>16.145683</td>\n",
       "      <td>16.182520</td>\n",
       "      <td>2.176677</td>\n",
       "      <td>-1.302488</td>\n",
       "      <td>-1.308426</td>\n",
       "    </tr>\n",
       "    <tr>\n",
       "      <th>...</th>\n",
       "      <td>...</td>\n",
       "      <td>...</td>\n",
       "      <td>...</td>\n",
       "      <td>...</td>\n",
       "      <td>...</td>\n",
       "      <td>...</td>\n",
       "      <td>...</td>\n",
       "      <td>...</td>\n",
       "      <td>...</td>\n",
       "    </tr>\n",
       "    <tr>\n",
       "      <th>15462</th>\n",
       "      <td>2022-12-01</td>\n",
       "      <td>11.145498</td>\n",
       "      <td>11.174203</td>\n",
       "      <td>336</td>\n",
       "      <td>9.369423</td>\n",
       "      <td>9.387088</td>\n",
       "      <td>1.162213</td>\n",
       "      <td>1.776075</td>\n",
       "      <td>1.787115</td>\n",
       "    </tr>\n",
       "    <tr>\n",
       "      <th>15463</th>\n",
       "      <td>2022-12-02</td>\n",
       "      <td>11.374785</td>\n",
       "      <td>11.404417</td>\n",
       "      <td>337</td>\n",
       "      <td>9.333347</td>\n",
       "      <td>9.350935</td>\n",
       "      <td>1.158664</td>\n",
       "      <td>2.041438</td>\n",
       "      <td>2.053482</td>\n",
       "    </tr>\n",
       "    <tr>\n",
       "      <th>15464</th>\n",
       "      <td>2022-12-03</td>\n",
       "      <td>11.551937</td>\n",
       "      <td>11.581782</td>\n",
       "      <td>338</td>\n",
       "      <td>9.274778</td>\n",
       "      <td>9.292370</td>\n",
       "      <td>1.164355</td>\n",
       "      <td>2.277159</td>\n",
       "      <td>2.289412</td>\n",
       "    </tr>\n",
       "    <tr>\n",
       "      <th>15465</th>\n",
       "      <td>2022-12-04</td>\n",
       "      <td>11.592849</td>\n",
       "      <td>11.623452</td>\n",
       "      <td>339</td>\n",
       "      <td>9.170948</td>\n",
       "      <td>9.188208</td>\n",
       "      <td>1.154606</td>\n",
       "      <td>2.421901</td>\n",
       "      <td>2.435244</td>\n",
       "    </tr>\n",
       "    <tr>\n",
       "      <th>15466</th>\n",
       "      <td>2022-12-05</td>\n",
       "      <td>11.513105</td>\n",
       "      <td>11.544023</td>\n",
       "      <td>340</td>\n",
       "      <td>9.033240</td>\n",
       "      <td>9.050404</td>\n",
       "      <td>1.146975</td>\n",
       "      <td>2.479865</td>\n",
       "      <td>2.493619</td>\n",
       "    </tr>\n",
       "  </tbody>\n",
       "</table>\n",
       "<p>15071 rows × 9 columns</p>\n",
       "</div>"
      ],
      "text/plain": [
       "             time        sst  area_wtd_sst  modified_ordinal_day   sst_clim  \\\n",
       "0      1981-09-01  15.780159     15.817860                   245  16.430416   \n",
       "1      1981-09-02  15.787786     15.823025                   246  16.356068   \n",
       "2      1981-09-03  15.494051     15.525661                   247  16.299295   \n",
       "3      1981-09-04  14.993513     15.025630                   248  16.261300   \n",
       "4      1981-09-05  14.843195     14.874094                   249  16.145683   \n",
       "...           ...        ...           ...                   ...        ...   \n",
       "15462  2022-12-01  11.145498     11.174203                   336   9.369423   \n",
       "15463  2022-12-02  11.374785     11.404417                   337   9.333347   \n",
       "15464  2022-12-03  11.551937     11.581782                   338   9.274778   \n",
       "15465  2022-12-04  11.592849     11.623452                   339   9.170948   \n",
       "15466  2022-12-05  11.513105     11.544023                   340   9.033240   \n",
       "\n",
       "       area_wtd_clim   clim_sd  sst_anom  area_wtd_anom  \n",
       "0          16.468410  2.270726 -0.650257      -0.650550  \n",
       "1          16.393608  2.245650 -0.568282      -0.570583  \n",
       "2          16.336779  2.232613 -0.805244      -0.811118  \n",
       "3          16.298191  2.201674 -1.267787      -1.272561  \n",
       "4          16.182520  2.176677 -1.302488      -1.308426  \n",
       "...              ...       ...       ...            ...  \n",
       "15462       9.387088  1.162213  1.776075       1.787115  \n",
       "15463       9.350935  1.158664  2.041438       2.053482  \n",
       "15464       9.292370  1.164355  2.277159       2.289412  \n",
       "15465       9.188208  1.154606  2.421901       2.435244  \n",
       "15466       9.050404  1.146975  2.479865       2.493619  \n",
       "\n",
       "[15071 rows x 9 columns]"
      ]
     },
     "execution_count": 6,
     "metadata": {},
     "output_type": "execute_result"
    }
   ],
   "source": [
    "# Method 2: Selective Drop\n",
    "# We want to only keep the 00:00:00 timestamp for duplicates\n",
    "# That is the stamp for the PSL, which I assume* is vetted before the annual file is published\n",
    "\n",
    "# Arguments to make it a function\n",
    "df_in = gom_sst\n",
    "phase_out = \"ncei\"\n",
    "\n",
    "# 1. Build out datetime structures\n",
    "dt_array = {\n",
    "    'original': df_in.time, \n",
    "    'dt'      : pd.to_datetime(df_in.time),\n",
    "    'dates'   : pd.to_datetime(df_in.time).dt.date,\n",
    "    'times'   : pd.to_datetime(df_in.time).dt.time\n",
    "    }\n",
    "dt_df = pd.DataFrame(data = dt_array)\n",
    "\n",
    "# 2. Find/Flag Dupes\n",
    "dt_df[\"date_dupes\"] = dt_df.dates.duplicated(keep = False)\n",
    "dt_df\n",
    "\n",
    "# 2. Check dupes for the datetimes we wanna drop\n",
    "dt_df[\"nc_source\"] = np.where(dt_df.times == datetime.time(0), \"psl\", \"ncei\")\n",
    "dt_df\n",
    "\n",
    "# 3. Filter out the ones that have the \"bad\" timestamp, or the source to phase out\n",
    "drops = np.where(dt_df.date_dupes & (dt_df.nc_source == phase_out), True, False)\n",
    "\n",
    "\n",
    "# 4. Apply the filtering to the original dataframe\n",
    "df_out = df_in.loc[~drops].copy()\n",
    "\n",
    "# Get rid of the stupid timestamp entirely\n",
    "df_out[\"time\"] = pd.to_datetime(df_out.time).dt.date\n",
    "df_out"
   ]
  },
  {
   "cell_type": "markdown",
   "metadata": {},
   "source": [
    "## Make a Function:\n",
    "\n",
    "The goal of this function is to:\n",
    " 1. Take a timeseries produced by this workflow, possibly containing a combination of NCEI and PSL data\n",
    " 2. Check the dates for any duplication caused by the different data streams\n",
    " 3. In those cases, prefer one source over another via an argument"
   ]
  },
  {
   "cell_type": "code",
   "execution_count": 11,
   "metadata": {},
   "outputs": [
    {
     "data": {
      "text/plain": [
       "<AxesSubplot:xlabel='time'>"
      ]
     },
     "execution_count": 11,
     "metadata": {},
     "output_type": "execute_result"
    },
    {
     "data": {
      "image/png": "[encoded data removed]",
      "text/plain": [
       "<Figure size 432x288 with 1 Axes>"
      ]
     },
     "metadata": {
      "needs_background": "light"
     },
     "output_type": "display_data"
    }
   ],
   "source": [
    "gom_cleaned = ot.date_source_prefer(df_in = gom_sst, phase_out = \"ncei\")\n",
    "gom_cleaned.set_index(\"time\").sst.plot()"
   ]
  },
  {
   "cell_type": "code",
   "execution_count": 13,
   "metadata": {},
   "outputs": [],
   "source": [
    "## Save it to double check in R\n",
    "gom_cleaned.to_csv(\"testing_data/gom_oisst.csv\")"
   ]
  },
  {
   "cell_type": "markdown",
   "metadata": {},
   "source": [
    "# Xarray QA/QC\n",
    "\n",
    "This next part checks to see whether the date duplication is in the xarray datasets themselves, or if they are just the result of the repeated appending steps in pandas."
   ]
  },
  {
   "cell_type": "code",
   "execution_count": 34,
   "metadata": {},
   "outputs": [],
   "source": [
    "# See if they exist in the current Anomaly netCDF files\n",
    "\n",
    "\n",
    "# Problematic years: 2020 & 2021\n",
    "sst_check = ot.load_box_oisst(box_root, 2000, 2021, anomalies = False, do_parallel = False)\n",
    "anoms_check = ot.load_box_oisst(box_root, 2000, 2021, anomalies = True, do_parallel = False)"
   ]
  },
  {
   "cell_type": "markdown",
   "metadata": {},
   "source": [
    "## Debugging in xarray\n",
    "\n",
    "The reason this even becomes an issue is when netCDF files from both sources are combined into a single xr.Dataset. When this happens both timestamps are introduced into the same object, and everything downstream from them deals with the consequences."
   ]
  },
  {
   "cell_type": "code",
   "execution_count": 35,
   "metadata": {},
   "outputs": [
    {
     "data": {
      "text/plain": [
       "array([datetime.time(0, 0)], dtype=object)"
      ]
     },
     "execution_count": 35,
     "metadata": {},
     "output_type": "execute_result"
    }
   ],
   "source": [
    "# Checking if there are different timestamps within a source:\n",
    "np.unique(sst_check.time.dt.time)"
   ]
  },
  {
   "cell_type": "code",
   "execution_count": 31,
   "metadata": {},
   "outputs": [
    {
     "data": {
      "text/plain": [
       "array([datetime.time(0, 0)], dtype=object)"
      ]
     },
     "execution_count": 31,
     "metadata": {},
     "output_type": "execute_result"
    }
   ],
   "source": [
    "# And anomalies\n",
    "np.unique(anoms_check.time.dt.time)"
   ]
  },
  {
   "cell_type": "markdown",
   "metadata": {},
   "source": [
    "## Looks fine!\n",
    "Only unique timestamps in anomalies and sst (for years that aren't currently ongoing) are `datetime.time(0)`"
   ]
  },
  {
   "cell_type": "markdown",
   "metadata": {},
   "source": []
  }
 ],
 "metadata": {
  "kernelspec": {
   "display_name": "Python 3.8.12 ('py3oisst')",
   "language": "python",
   "name": "python3"
  },
  "language_info": {
   "codemirror_mode": {
    "name": "ipython",
    "version": 3
   },
   "file_extension": ".py",
   "mimetype": "text/x-python",
   "name": "python",
   "nbconvert_exporter": "python",
   "pygments_lexer": "ipython3",
   "version": "3.8.12"
  },
  "orig_nbformat": 4,
  "vscode": {
   "interpreter": {
    "hash": "5d85a41832af5bb4fdcac30bc226aacd2bd4083fc54cd57616d11594ab8dce45"
   }
  }
 },
 "nbformat": 4,
 "nbformat_minor": 2
}
