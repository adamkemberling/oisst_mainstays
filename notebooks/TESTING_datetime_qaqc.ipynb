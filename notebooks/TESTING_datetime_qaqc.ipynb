{
 "cells": [
  {
   "cell_type": "markdown",
   "metadata": {},
   "source": [
    "# OISST Datetime Timestamp Management\n",
    "\n",
    "In the `oisst_mainstays` data-stream we have netCDF files coming from two distribution centers:\n",
    " * The NOAA physical sciences laboratory (NOAA PSL)\n",
    " * National Center for Environmental Information (NCEI)\n",
    "\n",
    "While the source data is the same, there is an inconsistency on the time-stamps that are recorded for each day. This difference is **usually** not an issue, because there is only one measurement per-day.\n",
    "\n",
    "However, when these two data sources are combined there is the potential to have duplicate dates. This can happen because one data source labels measurements using a `12:00` noon timestamp (NCEI) & the other uses a midnight `00:00:00` timestamp (PSL).\n",
    "\n",
    "This is an issue particularly in the regional timeseries that are being produced, as there are some duplicate dates slipping through in the 2020-2022 era. This notebook is for isolating how to check against this to implement those steps into `oisstools.py`"
   ]
  },
  {
   "cell_type": "code",
   "execution_count": 4,
   "metadata": {},
   "outputs": [
    {
     "name": "stdout",
     "output_type": "stream",
     "text": [
      "Working via local directory at: /Users/akemberling/Library/CloudStorage/Box-Box/\n"
     ]
    }
   ],
   "source": [
    "# Load Libraries\n",
    "import xarray as xr\n",
    "import matplotlib.pyplot as plt\n",
    "import pandas as pd\n",
    "import numpy as np\n",
    "import netCDF4\n",
    "import datetime\n",
    "import os\n",
    "import oisstools as ot\n",
    "\n",
    "\n",
    "# Set the workspace - local/ docker\n",
    "workspace = \"local\"\n",
    "box_root = ot.set_workspace(workspace)\n",
    "print(f\"Working via {workspace} directory at: {box_root}\")"
   ]
  },
  {
   "cell_type": "markdown",
   "metadata": {},
   "source": [
    "# Load a dataset with known problems to check against"
   ]
  },
  {
   "cell_type": "code",
   "execution_count": 9,
   "metadata": {},
   "outputs": [
    {
     "data": {
      "text/html": [
       "<div>\n",
       "<style scoped>\n",
       "    .dataframe tbody tr th:only-of-type {\n",
       "        vertical-align: middle;\n",
       "    }\n",
       "\n",
       "    .dataframe tbody tr th {\n",
       "        vertical-align: top;\n",
       "    }\n",
       "\n",
       "    .dataframe thead th {\n",
       "        text-align: right;\n",
       "    }\n",
       "</style>\n",
       "<table border=\"1\" class=\"dataframe\">\n",
       "  <thead>\n",
       "    <tr style=\"text-align: right;\">\n",
       "      <th></th>\n",
       "      <th>time</th>\n",
       "      <th>sst</th>\n",
       "      <th>area_wtd_sst</th>\n",
       "      <th>modified_ordinal_day</th>\n",
       "      <th>sst_clim</th>\n",
       "      <th>area_wtd_clim</th>\n",
       "      <th>clim_sd</th>\n",
       "      <th>sst_anom</th>\n",
       "      <th>area_wtd_anom</th>\n",
       "    </tr>\n",
       "  </thead>\n",
       "  <tbody>\n",
       "    <tr>\n",
       "      <th>0</th>\n",
       "      <td>1981-09-01</td>\n",
       "      <td>15.780159</td>\n",
       "      <td>15.817860</td>\n",
       "      <td>245</td>\n",
       "      <td>16.430416</td>\n",
       "      <td>16.468410</td>\n",
       "      <td>2.270726</td>\n",
       "      <td>-0.650257</td>\n",
       "      <td>-0.650550</td>\n",
       "    </tr>\n",
       "    <tr>\n",
       "      <th>1</th>\n",
       "      <td>1981-09-02</td>\n",
       "      <td>15.787786</td>\n",
       "      <td>15.823025</td>\n",
       "      <td>246</td>\n",
       "      <td>16.356068</td>\n",
       "      <td>16.393608</td>\n",
       "      <td>2.245650</td>\n",
       "      <td>-0.568282</td>\n",
       "      <td>-0.570583</td>\n",
       "    </tr>\n",
       "    <tr>\n",
       "      <th>2</th>\n",
       "      <td>1981-09-03</td>\n",
       "      <td>15.494051</td>\n",
       "      <td>15.525661</td>\n",
       "      <td>247</td>\n",
       "      <td>16.299295</td>\n",
       "      <td>16.336779</td>\n",
       "      <td>2.232613</td>\n",
       "      <td>-0.805244</td>\n",
       "      <td>-0.811118</td>\n",
       "    </tr>\n",
       "    <tr>\n",
       "      <th>3</th>\n",
       "      <td>1981-09-04</td>\n",
       "      <td>14.993513</td>\n",
       "      <td>15.025630</td>\n",
       "      <td>248</td>\n",
       "      <td>16.261300</td>\n",
       "      <td>16.298191</td>\n",
       "      <td>2.201674</td>\n",
       "      <td>-1.267787</td>\n",
       "      <td>-1.272561</td>\n",
       "    </tr>\n",
       "    <tr>\n",
       "      <th>4</th>\n",
       "      <td>1981-09-05</td>\n",
       "      <td>14.843195</td>\n",
       "      <td>14.874094</td>\n",
       "      <td>249</td>\n",
       "      <td>16.145683</td>\n",
       "      <td>16.182520</td>\n",
       "      <td>2.176677</td>\n",
       "      <td>-1.302488</td>\n",
       "      <td>-1.308426</td>\n",
       "    </tr>\n",
       "  </tbody>\n",
       "</table>\n",
       "</div>"
      ],
      "text/plain": [
       "         time        sst  area_wtd_sst  modified_ordinal_day   sst_clim  \\\n",
       "0  1981-09-01  15.780159     15.817860                   245  16.430416   \n",
       "1  1981-09-02  15.787786     15.823025                   246  16.356068   \n",
       "2  1981-09-03  15.494051     15.525661                   247  16.299295   \n",
       "3  1981-09-04  14.993513     15.025630                   248  16.261300   \n",
       "4  1981-09-05  14.843195     14.874094                   249  16.145683   \n",
       "\n",
       "   area_wtd_clim   clim_sd  sst_anom  area_wtd_anom  \n",
       "0      16.468410  2.270726 -0.650257      -0.650550  \n",
       "1      16.393608  2.245650 -0.568282      -0.570583  \n",
       "2      16.336779  2.232613 -0.805244      -0.811118  \n",
       "3      16.298191  2.201674 -1.267787      -1.272561  \n",
       "4      16.182520  2.176677 -1.302488      -1.308426  "
      ]
     },
     "execution_count": 9,
     "metadata": {},
     "output_type": "execute_result"
    }
   ],
   "source": [
    "# 1. Load the Gulf of Maine\n",
    "# Get their names from lookup catalog\n",
    "region_collection = \"gmri_sst_focal_areas\"\n",
    "region_names = ot.get_region_names(region_group = region_collection)\n",
    "region_paths = ot.get_timeseries_paths(\n",
    "    box_root = box_root, \n",
    "    region_group = region_collection, \n",
    "    region_list = region_names)\n",
    "\n",
    "\n",
    "gom_sst = pd.read_csv(region_paths[0])\n",
    "gom_sst.head()"
   ]
  },
  {
   "cell_type": "code",
   "execution_count": null,
   "metadata": {},
   "outputs": [],
   "source": [
    "# Interrogate the dates:\n",
    "\n",
    "\n",
    "# Find duplicates\n",
    "\n",
    "\n",
    "# See if they exist in the current Anomaly netCDF files"
   ]
  },
  {
   "cell_type": "markdown",
   "metadata": {},
   "source": [
    "## Debugging in xarray\n",
    "\n",
    "The reason this even becomes an issue is when netCDF files from both sources are combined into a single xr.Dataset. When this happens both timestamps are introduced into the same object, and everything downstream from them deals with the consequences."
   ]
  },
  {
   "cell_type": "code",
   "execution_count": 1,
   "metadata": {},
   "outputs": [],
   "source": [
    "# Load a PSL file\n",
    "\n",
    "\n",
    "# Load an NCEI file\n",
    "\n",
    "\n",
    "\n",
    "# Force a timestamp?\n",
    "\n",
    "\n",
    "# Checking for duplicate dates, but not times:\n",
    "\n",
    "\n",
    "\n",
    "# Picking one timestamp over another:"
   ]
  },
  {
   "cell_type": "markdown",
   "metadata": {},
   "source": [
    "## De-bugging in Pandas\n",
    "\n",
    "Currently, across all regional timeseries, there are dates that passed the duplicated() test because they were not considered duplicate "
   ]
  },
  {
   "cell_type": "markdown",
   "metadata": {},
   "source": []
  }
 ],
 "metadata": {
  "kernelspec": {
   "display_name": "Python 3.8.12 ('py3oisst')",
   "language": "python",
   "name": "python3"
  },
  "language_info": {
   "codemirror_mode": {
    "name": "ipython",
    "version": 3
   },
   "file_extension": ".py",
   "mimetype": "text/x-python",
   "name": "python",
   "nbconvert_exporter": "python",
   "pygments_lexer": "ipython3",
   "version": "3.8.12"
  },
  "orig_nbformat": 4,
  "vscode": {
   "interpreter": {
    "hash": "5d85a41832af5bb4fdcac30bc226aacd2bd4083fc54cd57616d11594ab8dce45"
   }
  }
 },
 "nbformat": 4,
 "nbformat_minor": 2
}
