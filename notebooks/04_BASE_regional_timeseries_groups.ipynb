{
 "cells": [
  {
   "cell_type": "markdown",
   "metadata": {},
   "source": [
    "# BASE: Calculate Regional Timeseries for Region Group\n",
    "\n",
    "**ABOUT:**\n",
    "Timelines of temperature anomalies, their variance, and their likelihood within the masking region of different polygon groups. \n",
    "\n",
    "This Notebook mirrors the functionality of `Update_02_Regional_Timelines.ipynb`, the purpose is to run any collection of timeseries that have been added into oisstools. Rather than dedicating another notebook for each new group of shapefile, we can implement new groups by adding their paths/information to `oisstools.py` then selecting the new collection here.\n",
    "\n",
    "This notebook can also be used to quickly re-run any of the existing collections in the event of an error.\n",
    "\n",
    "## Product 4. OISST Regional Timeseries\n",
    "\n",
    "**Objective: Calculate full sea surface temperature histories for any group of polygons**\n",
    "\n",
    "Use this notebook to process regional timelines for any group of polygons added to the `oisstools.py` module. This notebook is intended to phase out the notebooks for specific region groups."
   ]
  },
  {
   "cell_type": "code",
   "execution_count": 1,
   "metadata": {},
   "outputs": [],
   "source": [
    "# Load Packages\n",
    "import xarray as xr\n",
    "import numpy as np\n",
    "import pandas as pd\n",
    "import matplotlib.pyplot as plt\n",
    "import warnings\n",
    "import os\n",
    "import geopandas as gpd\n",
    "import regionmask\n",
    "import math\n",
    "import oisstools as ot\n",
    "\n",
    "# Set the workspace - local/ docker\n",
    "box_root = ot.set_workspace(\"local\")\n",
    "\n",
    "# variable name to mask and make timeline from\n",
    "var_name = \"sst\""
   ]
  },
  {
   "cell_type": "markdown",
   "metadata": {},
   "source": [
    "## Set Time Period and Reference Climatology to Use"
   ]
  },
  {
   "cell_type": "code",
   "execution_count": 2,
   "metadata": {},
   "outputs": [
    {
     "name": "stdout",
     "output_type": "stream",
     "text": [
      "Process Time Period of 1981-2000 using 1982-2011 climatology.\n"
     ]
    }
   ],
   "source": [
    "# Years to Include\n",
    "start_yr = 1981\n",
    "end_yr = 2000\n",
    "\n",
    "# Climate Reference Period\n",
    "clim_ref_period = \"1982-2011\"\n",
    "\n",
    "# print record of what you last ran\n",
    "print(f\"Process Time Period of {start_yr}-{end_yr} using {clim_ref_period} climatology.\")"
   ]
  },
  {
   "cell_type": "markdown",
   "metadata": {},
   "source": [
    "## Select Group of Regions to Process\n",
    "\n",
    "These region groups have been added to the oisstools.py module to ensure consistent naming conventions and path retrievals."
   ]
  },
  {
   "cell_type": "code",
   "execution_count": 3,
   "metadata": {},
   "outputs": [
    {
     "name": "stdout",
     "output_type": "stream",
     "text": [
      "Process Timeseries for: gom_physio_regions\n"
     ]
    }
   ],
   "source": [
    "# Choose a set of regions to update (gmri_sst_focal_areas, lme, nmfs_trawl_regions)\n",
    "\n",
    "# Option 1.\n",
    "# update_regions = \"gmri_sst_focal_areas\"\n",
    "\n",
    "# Option 2.\n",
    "# update_regions = \"lme\"\n",
    "\n",
    "# Option 3.\n",
    "# update_regions = \"nmfs_trawl_regions\"\n",
    "\n",
    "# Option 4.\n",
    "# update_regions = \"nelme_regions\"\n",
    "\n",
    "# Option 5.\n",
    "update_regions = \"gom_physio_regions\"\n",
    "\n",
    "print(f\"Process Timeseries for: {update_regions}\")"
   ]
  },
  {
   "cell_type": "code",
   "execution_count": 4,
   "metadata": {},
   "outputs": [
    {
     "name": "stdout",
     "output_type": "stream",
     "text": [
      " - bay_of_fundy\n",
      " - bear_seamount\n",
      " - browns_bank\n",
      " - central_gulf_of_maine\n",
      " - continental_slope\n",
      " - eastern_coastal_shelf\n",
      " - georges_bank\n",
      " - georges_basin\n",
      " - jordan_basin\n",
      " - kelvin_seamount\n",
      " - manning_seamount\n",
      " - northern_coastal_shelf\n",
      " - scotian_coastal_shelf\n",
      " - scotian_shelf\n",
      " - southern_coastal_shelf\n",
      " - wikinson_basin\n"
     ]
    }
   ],
   "source": [
    "# Get their names from lookup catalog\n",
    "region_names = ot.get_region_names(region_group = update_regions)\n",
    "#print(f\"Processing Timeseries for: {update_regions}\")\n",
    "for region in region_names:\n",
    "    print(f\" - {region}\")"
   ]
  },
  {
   "cell_type": "markdown",
   "metadata": {},
   "source": [
    "## Load Polygons for Each Region"
   ]
  },
  {
   "cell_type": "code",
   "execution_count": 5,
   "metadata": {},
   "outputs": [
    {
     "name": "stdout",
     "output_type": "stream",
     "text": [
      "browns_bank\n"
     ]
    },
    {
     "data": {
      "text/plain": [
       "<matplotlib.axes._subplots.AxesSubplot at 0x7fc9230a16d8>"
      ]
     },
     "execution_count": 5,
     "metadata": {},
     "output_type": "execute_result"
    },
    {
     "data": {
      "image/png": "[encoded data removed]",
      "text/plain": [
       "<Figure size 432x288 with 1 Axes>"
      ]
     },
     "metadata": {
      "needs_background": "light"
     },
     "output_type": "display_data"
    }
   ],
   "source": [
    "# Get paths to each shapefile\n",
    "mask_paths = ot.get_timeseries_paths(box_root = box_root, \n",
    "                                     region_list = region_names, \n",
    "                                     region_group = update_regions, \n",
    "                                     polygons = True)\n",
    "\n",
    "# Use paths to make list of loaded polygons\n",
    "mask_list = []\n",
    "for mask_path_i in mask_paths:\n",
    "    mask_shape = gpd.read_file(mask_path_i)\n",
    "    mask_list.append(mask_shape)\n",
    "    #print(f\"Loading Mask Area :  {mask_path_i}\")\n",
    "\n",
    "print(region_names[2])    \n",
    "mask_list[2].plot()"
   ]
  },
  {
   "cell_type": "markdown",
   "metadata": {},
   "source": [
    "## Step 2: Load OISST Collection\n",
    "\n",
    "Timelines for these area haven't been calculates yet so it should be possible to do the full thing all at once. Steps are to load the observed data, get what the mean sst is for every day as a timeseries, as well as what the climatology is for that day of the year."
   ]
  },
  {
   "cell_type": "code",
   "execution_count": 6,
   "metadata": {},
   "outputs": [],
   "source": [
    "# Load OISSt using ot.load_box_oisst()\n",
    "oisst_grid = ot.load_box_oisst(box_root, \n",
    "                               start_yr, \n",
    "                               end_yr, \n",
    "                               anomalies = False, \n",
    "                               do_parallel = True)\n",
    "# oisst_grid.sst.isel(time = 0).plot()\n",
    "\n",
    "# Add MOD\n",
    "oisst_grid = ot.add_mod(oisst_grid, time_dim = \"time\")"
   ]
  },
  {
   "cell_type": "markdown",
   "metadata": {},
   "source": [
    "## Step 3: Load OISST Climatology\n",
    "\n",
    "From the global extent climatology we will want to get regional means for the areas of interest."
   ]
  },
  {
   "cell_type": "code",
   "execution_count": 7,
   "metadata": {},
   "outputs": [],
   "source": [
    "# Load the OISST Climatology\n",
    "oisst_clim = ot.load_oisst_climatology(box_root, reference_period = clim_ref_period)"
   ]
  },
  {
   "cell_type": "markdown",
   "metadata": {},
   "source": [
    "## Step 4: Create Masked Timeseries\n",
    "\n",
    "So the steps to create a masked timeseries are straightforward. Once everything is prepped you simply create a mask with the geometry of the polygon of interest. You then extract the cells that fall within it, and calculatet the mean temperature and standard deviation for the area for each time step. These steps are repeated for the raw observations as well as the climate means in order to get anomalies from the 82-2011 climatology."
   ]
  },
  {
   "cell_type": "code",
   "execution_count": 8,
   "metadata": {},
   "outputs": [
    {
     "name": "stdout",
     "output_type": "stream",
     "text": [
      "bay_of_fundy timeseries processed.\n",
      "bear_seamount timeseries processed.\n",
      "browns_bank timeseries processed.\n",
      "central_gulf_of_maine timeseries processed.\n",
      "continental_slope timeseries processed.\n",
      "eastern_coastal_shelf timeseries processed.\n",
      "georges_bank timeseries processed.\n",
      "georges_basin timeseries processed.\n",
      "jordan_basin timeseries processed.\n",
      "kelvin_seamount timeseries processed.\n",
      "manning_seamount timeseries processed.\n",
      "northern_coastal_shelf timeseries processed.\n",
      "scotian_coastal_shelf timeseries processed.\n",
      "scotian_shelf timeseries processed.\n",
      "southern_coastal_shelf timeseries processed.\n",
      "wikinson_basin timeseries processed.\n"
     ]
    }
   ],
   "source": [
    "# NEW CODE - Masked Timeseries\n",
    "\n",
    "# list to store the update period timeseries\n",
    "clim_ts = [] # climatology timeseries\n",
    "obs_ts = []  # temperature observations\n",
    "new_ts = []  # anomaly timeseries\n",
    "\n",
    "\n",
    "# Iterate through names and shapes simultaneously\n",
    "for mask_shp, mask_name in zip(mask_list, region_names):\n",
    "    \n",
    "    \n",
    "    \n",
    "    #### 1. Get masked timeseries of climatology\n",
    "    masked_clim = ot.calc_ts_mask(grid_obj = oisst_clim, \n",
    "                                  shp_obj  = mask_shp, \n",
    "                                  shp_name = mask_name,\n",
    "                                  var_name = \"sst\",\n",
    "                                  climatology = True)\n",
    "    \n",
    "    # Add to list\n",
    "    clim_ts.append(masked_clim)\n",
    "    \n",
    "    \n",
    "    \n",
    "    #### 2. Get masked Timeseries of observations\n",
    "    masked_sst = ot.calc_ts_mask(grid_obj = oisst_grid, \n",
    "                                 shp_obj  = mask_shp, \n",
    "                                 shp_name = mask_name,\n",
    "                                 var_name = \"sst\",\n",
    "                                 climatology = False)\n",
    "    \n",
    "    # Add MOD to observation temp ts\n",
    "    masked_sst = ot.add_mod_to_ts(masked_sst)\n",
    "    \n",
    "    # Add to list\n",
    "    obs_ts.append(masked_sst)\n",
    "    \n",
    "\n",
    "    \n",
    "    \n",
    "    #### 3. Merge on MOD\n",
    "    \n",
    "    # Merge on MOD\n",
    "    anom_timeline = masked_sst.merge(masked_clim, how = \"left\", on = \"modified_ordinal_day\")\n",
    "\n",
    "    #Set index as the date, drop time\n",
    "    anom_timeline.index = anom_timeline.index = anom_timeline[\"time\"]\n",
    "    anom_timeline       = anom_timeline.drop([\"time\"], axis = 1)\n",
    "\n",
    "    \n",
    "    \n",
    "    #### 4. Calc anoms\n",
    "    \n",
    "    # standard anomalies\n",
    "    anom_timeline = anom_timeline.assign(anom = anom_timeline[f\"{var_name}\"] - anom_timeline[f\"{var_name}_clim\"])\n",
    "    anom_timeline = anom_timeline.rename(columns = { \"anom\" : f\"{var_name}_anom\"})\n",
    "    \n",
    "    # area weighted anomalies\n",
    "    anom_timeline = anom_timeline.assign(area_wtd_anom = anom_timeline[f\"area_wtd_{var_name}\"] - anom_timeline[\"area_wtd_clim\"])\n",
    "   \n",
    "    # Reset Index\n",
    "    anom_timeline = anom_timeline.reset_index()\n",
    "\n",
    "    # re-order columns for peace of mind\n",
    "    anom_timeline = anom_timeline[[\"time\", \"modified_ordinal_day\", f\"{var_name}\", f\"area_wtd_{var_name}\", f\"{var_name}_clim\", \"area_wtd_clim\", f\"{var_name}_anom\", \"area_wtd_anom\", \"clim_sd\"]]\n",
    "    anom_timeline.head()\n",
    "    \n",
    "    # Add to list\n",
    "    new_ts.append(anom_timeline)\n",
    "    \n",
    "    print(f\"{mask_name} timeseries processed.\")\n",
    "\n"
   ]
  },
  {
   "cell_type": "markdown",
   "metadata": {},
   "source": [
    "## QA/QC Visual Inspection"
   ]
  },
  {
   "cell_type": "code",
   "execution_count": 9,
   "metadata": {},
   "outputs": [
    {
     "data": {
      "text/html": [
       "<div>\n",
       "<style scoped>\n",
       "    .dataframe tbody tr th:only-of-type {\n",
       "        vertical-align: middle;\n",
       "    }\n",
       "\n",
       "    .dataframe tbody tr th {\n",
       "        vertical-align: top;\n",
       "    }\n",
       "\n",
       "    .dataframe thead th {\n",
       "        text-align: right;\n",
       "    }\n",
       "</style>\n",
       "<table border=\"1\" class=\"dataframe\">\n",
       "  <thead>\n",
       "    <tr style=\"text-align: right;\">\n",
       "      <th></th>\n",
       "      <th>time</th>\n",
       "      <th>modified_ordinal_day</th>\n",
       "      <th>sst</th>\n",
       "      <th>area_wtd_sst</th>\n",
       "      <th>sst_clim</th>\n",
       "      <th>area_wtd_clim</th>\n",
       "      <th>sst_anom</th>\n",
       "      <th>area_wtd_anom</th>\n",
       "      <th>clim_sd</th>\n",
       "    </tr>\n",
       "  </thead>\n",
       "  <tbody>\n",
       "    <tr>\n",
       "      <th>0</th>\n",
       "      <td>1981-09-01</td>\n",
       "      <td>245</td>\n",
       "      <td>11.072778</td>\n",
       "      <td>11.073457</td>\n",
       "      <td>12.969889</td>\n",
       "      <td>12.968249</td>\n",
       "      <td>-1.897111</td>\n",
       "      <td>-1.894793</td>\n",
       "      <td>0.410132</td>\n",
       "    </tr>\n",
       "    <tr>\n",
       "      <th>1</th>\n",
       "      <td>1981-09-02</td>\n",
       "      <td>246</td>\n",
       "      <td>11.244444</td>\n",
       "      <td>11.246525</td>\n",
       "      <td>12.943203</td>\n",
       "      <td>12.941373</td>\n",
       "      <td>-1.698759</td>\n",
       "      <td>-1.694848</td>\n",
       "      <td>0.457851</td>\n",
       "    </tr>\n",
       "    <tr>\n",
       "      <th>2</th>\n",
       "      <td>1981-09-03</td>\n",
       "      <td>247</td>\n",
       "      <td>11.748333</td>\n",
       "      <td>11.750710</td>\n",
       "      <td>12.969833</td>\n",
       "      <td>12.967990</td>\n",
       "      <td>-1.221500</td>\n",
       "      <td>-1.217280</td>\n",
       "      <td>0.458614</td>\n",
       "    </tr>\n",
       "    <tr>\n",
       "      <th>3</th>\n",
       "      <td>1981-09-04</td>\n",
       "      <td>248</td>\n",
       "      <td>12.174999</td>\n",
       "      <td>12.175961</td>\n",
       "      <td>12.967019</td>\n",
       "      <td>12.965248</td>\n",
       "      <td>-0.792020</td>\n",
       "      <td>-0.789287</td>\n",
       "      <td>0.434870</td>\n",
       "    </tr>\n",
       "    <tr>\n",
       "      <th>4</th>\n",
       "      <td>1981-09-05</td>\n",
       "      <td>249</td>\n",
       "      <td>12.199444</td>\n",
       "      <td>12.199735</td>\n",
       "      <td>12.925018</td>\n",
       "      <td>12.923360</td>\n",
       "      <td>-0.725574</td>\n",
       "      <td>-0.723625</td>\n",
       "      <td>0.411604</td>\n",
       "    </tr>\n",
       "  </tbody>\n",
       "</table>\n",
       "</div>"
      ],
      "text/plain": [
       "        time  modified_ordinal_day        sst  area_wtd_sst   sst_clim  \\\n",
       "0 1981-09-01                   245  11.072778     11.073457  12.969889   \n",
       "1 1981-09-02                   246  11.244444     11.246525  12.943203   \n",
       "2 1981-09-03                   247  11.748333     11.750710  12.969833   \n",
       "3 1981-09-04                   248  12.174999     12.175961  12.967019   \n",
       "4 1981-09-05                   249  12.199444     12.199735  12.925018   \n",
       "\n",
       "   area_wtd_clim  sst_anom  area_wtd_anom   clim_sd  \n",
       "0      12.968249 -1.897111      -1.894793  0.410132  \n",
       "1      12.941373 -1.698759      -1.694848  0.457851  \n",
       "2      12.967990 -1.221500      -1.217280  0.458614  \n",
       "3      12.965248 -0.792020      -0.789287  0.434870  \n",
       "4      12.923360 -0.725574      -0.723625  0.411604  "
      ]
     },
     "execution_count": 9,
     "metadata": {},
     "output_type": "execute_result"
    }
   ],
   "source": [
    "# Inspect a table\n",
    "new_ts[0].head()"
   ]
  },
  {
   "cell_type": "code",
   "execution_count": 10,
   "metadata": {},
   "outputs": [
    {
     "data": {
      "text/plain": [
       "<matplotlib.axes._subplots.AxesSubplot at 0x7fb8cb3ae828>"
      ]
     },
     "execution_count": 10,
     "metadata": {},
     "output_type": "execute_result"
    },
    {
     "data": {
      "image/png": "[encoded data removed]",
      "text/plain": [
       "<Figure size 432x288 with 1 Axes>"
      ]
     },
     "metadata": {
      "needs_background": "light"
     },
     "output_type": "display_data"
    }
   ],
   "source": [
    "# Inspect via plot\n",
    "new_ts[0].plot(\"time\", \"sst_anom\")"
   ]
  },
  {
   "cell_type": "markdown",
   "metadata": {},
   "source": [
    "## Step 5: Export\n",
    "\n",
    "**NOTE:**\n",
    "Some of the large marine ecosystem names contain a hyphen, so added an extra step to replace those."
   ]
  },
  {
   "cell_type": "code",
   "execution_count": 11,
   "metadata": {},
   "outputs": [
    {
     "name": "stdout",
     "output_type": "stream",
     "text": [
      "Saving: /Users/akemberling/Box/RES_Data/OISST/oisst_mainstays/regional_timeseries/GulfOfMainePhysioRegions/OISSTv2_anom_bay_of_fundy.csv\n",
      "Saving: /Users/akemberling/Box/RES_Data/OISST/oisst_mainstays/regional_timeseries/GulfOfMainePhysioRegions/OISSTv2_anom_bear_seamount.csv\n",
      "Saving: /Users/akemberling/Box/RES_Data/OISST/oisst_mainstays/regional_timeseries/GulfOfMainePhysioRegions/OISSTv2_anom_browns_bank.csv\n",
      "Saving: /Users/akemberling/Box/RES_Data/OISST/oisst_mainstays/regional_timeseries/GulfOfMainePhysioRegions/OISSTv2_anom_central_gulf_of_maine.csv\n",
      "Saving: /Users/akemberling/Box/RES_Data/OISST/oisst_mainstays/regional_timeseries/GulfOfMainePhysioRegions/OISSTv2_anom_continental_slope.csv\n",
      "Saving: /Users/akemberling/Box/RES_Data/OISST/oisst_mainstays/regional_timeseries/GulfOfMainePhysioRegions/OISSTv2_anom_eastern_coastal_shelf.csv\n",
      "Saving: /Users/akemberling/Box/RES_Data/OISST/oisst_mainstays/regional_timeseries/GulfOfMainePhysioRegions/OISSTv2_anom_georges_bank.csv\n",
      "Saving: /Users/akemberling/Box/RES_Data/OISST/oisst_mainstays/regional_timeseries/GulfOfMainePhysioRegions/OISSTv2_anom_georges_basin.csv\n",
      "Saving: /Users/akemberling/Box/RES_Data/OISST/oisst_mainstays/regional_timeseries/GulfOfMainePhysioRegions/OISSTv2_anom_jordan_basin.csv\n",
      "Saving: /Users/akemberling/Box/RES_Data/OISST/oisst_mainstays/regional_timeseries/GulfOfMainePhysioRegions/OISSTv2_anom_kelvin_seamount.csv\n",
      "Saving: /Users/akemberling/Box/RES_Data/OISST/oisst_mainstays/regional_timeseries/GulfOfMainePhysioRegions/OISSTv2_anom_manning_seamount.csv\n",
      "Saving: /Users/akemberling/Box/RES_Data/OISST/oisst_mainstays/regional_timeseries/GulfOfMainePhysioRegions/OISSTv2_anom_northern_coastal_shelf.csv\n",
      "Saving: /Users/akemberling/Box/RES_Data/OISST/oisst_mainstays/regional_timeseries/GulfOfMainePhysioRegions/OISSTv2_anom_scotian_coastal_shelf.csv\n",
      "Saving: /Users/akemberling/Box/RES_Data/OISST/oisst_mainstays/regional_timeseries/GulfOfMainePhysioRegions/OISSTv2_anom_scotian_shelf.csv\n",
      "Saving: /Users/akemberling/Box/RES_Data/OISST/oisst_mainstays/regional_timeseries/GulfOfMainePhysioRegions/OISSTv2_anom_southern_coastal_shelf.csv\n",
      "Saving: /Users/akemberling/Box/RES_Data/OISST/oisst_mainstays/regional_timeseries/GulfOfMainePhysioRegions/OISSTv2_anom_wikinson_basin.csv\n"
     ]
    }
   ],
   "source": [
    "# NEW Code - should be good to test\n",
    "\n",
    "# Paths to where the timelines go\n",
    "mask_ts_paths = ot.get_timeseries_paths(box_root = box_root, \n",
    "                                        region_list = region_names, \n",
    "                                        region_group = update_regions, \n",
    "                                        polygons = False)\n",
    "\n",
    "# Use the file paths we looked up before to set the save destinations\n",
    "for updated_timeline_i, update_path_i in zip(new_ts, mask_ts_paths):\n",
    "    # save them\n",
    "    print(f\"Saving: {update_path_i}\")\n",
    "    updated_timeline_i.to_csv(update_path_i, index = False)"
   ]
  },
  {
   "cell_type": "code",
   "execution_count": null,
   "metadata": {},
   "outputs": [],
   "source": []
  }
 ],
 "metadata": {
  "kernelspec": {
   "display_name": "Python 3",
   "language": "python",
   "name": "python3"
  },
  "language_info": {
   "codemirror_mode": {
    "name": "ipython",
    "version": 3
   },
   "file_extension": ".py",
   "mimetype": "text/x-python",
   "name": "python",
   "nbconvert_exporter": "python",
   "pygments_lexer": "ipython3",
   "version": "3.6.7"
  }
 },
 "nbformat": 4,
 "nbformat_minor": 4
}
