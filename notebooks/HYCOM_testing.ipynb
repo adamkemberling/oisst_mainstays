{
 "cells": [
  {
   "cell_type": "code",
   "execution_count": null,
   "metadata": {},
   "outputs": [],
   "source": [
    "# Libraries\n",
    "import xarray as xr\n",
    "import pandas as pdb"
   ]
  },
  {
   "cell_type": "code",
   "execution_count": null,
   "metadata": {},
   "outputs": [],
   "source": [
    "# Load the OpenDap data\n",
    "baseurl = \"http://tds.hycom.org/thredds/dodsC/GLBu0.08/expt_19.1\"\n",
    "ndepth = 30\n",
    "nlat=2000\n",
    "nlon=4499\n",
    "ntime=6324\n",
    "url = f\"{baseurl}?depth[0:1:{ndepth}],lat[0:1:{nlat}],lon[0:1:{nlon}],time[0:1:{ntime}],water_u[0:1:{ntime}][0:1:{ndepth}][0:1:{nlat}][0:1:{nlon}],water_v[0:1:{ntime}][0:1:{ndepth}][0:1:{nlat}][0:1:{nlon}],water_temp[0:1:{ntime}][0:1:{ndepth}][0:1:{nlat}][0:1:{nlon}],salinity[0:1:{ntime}][0:1:{ndepth}][0:1:{nlat}][0:1:{nlon}],surf_el[0:1:{ntime}][0:1:{nlat}][0:1:{nlon}]\" \n",
    "ds = xr.open_dataset(url)\n",
    "ds"
   ]
  },
  {
   "cell_type": "code",
   "execution_count": null,
   "metadata": {},
   "outputs": [],
   "source": [
    "# Depths and variables we care about\n",
    "depths = [0,10,30,50]\n",
    "variables = [\"water_u\", \"water_v\", \"water_temp\", \"salinity\"]\n",
    "\n",
    "# Subset the Environmental Data Arrray to just have the range of depths and variables of interest\n",
    "ds_scoped = ds.sel(depth = slice(0, 50)).drop_vars(\"surf_el\")\n",
    "ds_scoped"
   ]
  },
  {
   "cell_type": "code",
   "execution_count": null,
   "metadata": {},
   "outputs": [],
   "source": [
    "# Load your CSV file with date, lat, and lon columns\n",
    "csv_file = \"/home/jovyan/shared/incois-scripts/data/mammals.csv\" \n",
    "df = pd.read_csv(csv_file)\n",
    "\n",
    "# Test with first 100\n",
    "df = df.iloc[0:100]\n",
    "\n",
    "\n",
    "# Make the Points Dataframe an xr.Dataset\n",
    "new_points_ds = df.to_xarray()\n",
    "new_points_ds"
   ]
  },
  {
   "cell_type": "code",
   "execution_count": null,
   "metadata": {},
   "outputs": [],
   "source": [
    "# Match the Points to the\n",
    "point_matches = ds_scoped.sel(\n",
    "    time  = new_points_ds[\"date\"], \n",
    "    lat   = new_points_ds['decimalLatitude'], \n",
    "    lon   = new_points_ds['decimalLongitude'], \n",
    "    method='nearest')\n",
    "point_matches"
   ]
  },
  {
   "cell_type": "code",
   "execution_count": null,
   "metadata": {},
   "outputs": [],
   "source": [
    "# Convert to a dataframe\n",
    "point_matches.to_dataframe().head()"
   ]
  },
  {
   "cell_type": "code",
   "execution_count": null,
   "metadata": {},
   "outputs": [],
   "source": []
  },
  {
   "cell_type": "code",
   "execution_count": null,
   "metadata": {},
   "outputs": [],
   "source": []
  }
 ],
 "metadata": {
  "kernelspec": {
   "display_name": "py3oisst",
   "language": "python",
   "name": "python3"
  },
  "language_info": {
   "name": "python",
   "version": "3.8.12"
  },
  "orig_nbformat": 4
 },
 "nbformat": 4,
 "nbformat_minor": 2
}
